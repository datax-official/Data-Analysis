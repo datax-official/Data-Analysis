{
 "cells": [
  {
   "cell_type": "code",
   "execution_count": 1,
   "id": "4ddfe779",
   "metadata": {
    "execution": {
     "iopub.execute_input": "2025-06-01T14:50:29.788116Z",
     "iopub.status.busy": "2025-06-01T14:50:29.787754Z",
     "iopub.status.idle": "2025-06-01T14:50:31.823836Z",
     "shell.execute_reply": "2025-06-01T14:50:31.822614Z"
    },
    "papermill": {
     "duration": 2.057001,
     "end_time": "2025-06-01T14:50:31.825467",
     "exception": false,
     "start_time": "2025-06-01T14:50:29.768466",
     "status": "completed"
    },
    "tags": []
   },
   "outputs": [
    {
     "name": "stdout",
     "output_type": "stream",
     "text": [
      "/kaggle/input/electrical-fault-detection-and-classification/detect_dataset.csv\n",
      "/kaggle/input/electrical-fault-detection-and-classification/classData.csv\n"
     ]
    }
   ],
   "source": [
    "# This Python 3 environment comes with many helpful analytics libraries installed\n",
    "# It is defined by the kaggle/python Docker image: https://github.com/kaggle/docker-python\n",
    "# For example, here's several helpful packages to load\n",
    "\n",
    "import numpy as np # linear algebra\n",
    "import pandas as pd # data processing, CSV file I/O (e.g. pd.read_csv)\n",
    "\n",
    "# Input data files are available in the read-only \"../input/\" directory\n",
    "# For example, running this (by clicking run or pressing Shift+Enter) will list all files under the input directory\n",
    "\n",
    "import os\n",
    "for dirname, _, filenames in os.walk('/kaggle/input'):\n",
    "    for filename in filenames:\n",
    "        print(os.path.join(dirname, filename))\n",
    "\n",
    "# You can write up to 20GB to the current directory (/kaggle/working/) that gets preserved as output when you create a version using \"Save & Run All\" \n",
    "# You can also write temporary files to /kaggle/temp/, but they won't be saved outside of the current session"
   ]
  },
  {
   "cell_type": "markdown",
   "id": "dd5b9724",
   "metadata": {
    "papermill": {
     "duration": 0.015606,
     "end_time": "2025-06-01T14:50:31.857035",
     "exception": false,
     "start_time": "2025-06-01T14:50:31.841429",
     "status": "completed"
    },
    "tags": []
   },
   "source": [
    "<div style=\"color:white;background-color:#e90045;padding:3%;border-radius:150px 150px;font-size:2em;text-align:center\"> <font color=\"White\" size=+3 face=\"Lucida Calligraphy\"><div style=\"align:center: justify\">Electrical Faults Detection and Classsification</font></div>"
   ]
  },
  {
   "cell_type": "markdown",
   "id": "36f74089",
   "metadata": {
    "papermill": {
     "duration": 0.014615,
     "end_time": "2025-06-01T14:50:31.886559",
     "exception": false,
     "start_time": "2025-06-01T14:50:31.871944",
     "status": "completed"
    },
    "tags": []
   },
   "source": [
    "<center> <img src=\"https://lge-ku.com/sites/default/files/2021-03/Transmission_Falling_Tree_033021a.gif\" width=\"1000\" height=\"200\"> </center>"
   ]
  },
  {
   "cell_type": "markdown",
   "id": "422f3f58",
   "metadata": {
    "papermill": {
     "duration": 0.016332,
     "end_time": "2025-06-01T14:50:31.917722",
     "exception": false,
     "start_time": "2025-06-01T14:50:31.901390",
     "status": "completed"
    },
    "tags": []
   },
   "source": [
    "<div style=\"color:white;\n",
    "       display:fill;\n",
    "       border-radius:5px;\n",
    "       background-color:yellow;\n",
    "       font-size:120%;\n",
    "       font-family:Nexa;\n",
    "       style:justify;\n",
    "       font-family:'Times New Roman';\n",
    "       letter-spacing:0.5px\">\n",
    "    <p style=\"padding: 10px;\n",
    "          color:Black;\">\n",
    "        The transmission line is the most crucial part of the power system. The requirement of power and its allegiance has grown up exponentially over the modern era, and the prominent role of a transmission line is to transmit electric power from the source area to the distribution network. The electrical power system consists of so many complex dynamic and interacting elements that are always prone to disturbance or an electrical fault.\n",
    "    </p>\n",
    "</div>\n"
   ]
  },
  {
   "cell_type": "markdown",
   "id": "53b7cf93",
   "metadata": {
    "papermill": {
     "duration": 0.019067,
     "end_time": "2025-06-01T14:50:31.958248",
     "exception": false,
     "start_time": "2025-06-01T14:50:31.939181",
     "status": "completed"
    },
    "tags": []
   },
   "source": [
    "<div style=\"color:white;\n",
    "       display:fill;\n",
    "       border-radius:5px;\n",
    "       background-color:yellow;\n",
    "       font-size:120%;\n",
    "       font-family:Nexa;\n",
    "       style:justify;\n",
    "       font-family:'Times New Roman';\n",
    "       letter-spacing:0.5px\">\n",
    "    <p style=\"padding: 10px;\n",
    "          color:Black;\">\n",
    "        The power system consists of 4 generators of 11 × 10^3 V, each pair located at each end of the transmission line. Transformers are present in between to simulate and study the various faults at the midpoint of the transmission line.\n",
    "    </p>\n",
    "</div>"
   ]
  },
  {
   "cell_type": "markdown",
   "id": "e5b62590",
   "metadata": {
    "papermill": {
     "duration": 0.015284,
     "end_time": "2025-06-01T14:50:31.994024",
     "exception": false,
     "start_time": "2025-06-01T14:50:31.978740",
     "status": "completed"
    },
    "tags": []
   },
   "source": [
    "<span style=\"background-color:red;\n",
    "             color:white;\n",
    "             font-size:17px;\n",
    "             text-align:center;\n",
    "             border-radius:30px 80px;\n",
    "             font-weight:bold;\n",
    "             border:2px solid red;\n",
    "             padding:0px 20px;\">What are Electrical Faults?\n",
    "</span>"
   ]
  },
  {
   "cell_type": "markdown",
   "id": "37f9ccfd",
   "metadata": {
    "papermill": {
     "duration": 0.015061,
     "end_time": "2025-06-01T14:50:32.024053",
     "exception": false,
     "start_time": "2025-06-01T14:50:32.008992",
     "status": "completed"
    },
    "tags": []
   },
   "source": [
    "<div style=\"color:white;\n",
    "       display:fill;\n",
    "       border-radius:5px;\n",
    "       background-color:yellow;\n",
    "       font-size:120%;\n",
    "       font-family:Nexa;\n",
    "       style:justify;\n",
    "       font-family:'Times New Roman';\n",
    "       letter-spacing:0.5px\">\n",
    "    <p style=\"padding: 10px;\n",
    "          color:Black;\">\n",
    "         Normally, a power system operates under balanced conditions. When the system becomes unbalanced due to the failures of insulation at any point or due to the contact of live wires, a short–circuit or fault, is said to occur in the line. Faults may occur in the power system due to the number of reasons like natural disturbances (lightning, high-speed winds, earthquakes), insulation breakdown, falling of a tree, bird shorting, etc.\n",
    "    </p>\n",
    "</div>"
   ]
  },
  {
   "cell_type": "markdown",
   "id": "116b6d02",
   "metadata": {
    "papermill": {
     "duration": 0.030737,
     "end_time": "2025-06-01T14:50:32.148149",
     "exception": false,
     "start_time": "2025-06-01T14:50:32.117412",
     "status": "completed"
    },
    "tags": []
   },
   "source": [
    "<span style=\"background-color:red;\n",
    "             color:white;\n",
    "             font-size:17px;\n",
    "             text-align:center;\n",
    "             border-radius:30px 80px;\n",
    "             font-weight:bold;\n",
    "             border:2px solid red;\n",
    "             padding:0px 20px;\">Types of Faults?\n",
    "</span>"
   ]
  },
  {
   "cell_type": "markdown",
   "id": "3e32995e",
   "metadata": {
    "papermill": {
     "duration": 0.021938,
     "end_time": "2025-06-01T14:50:32.190718",
     "exception": false,
     "start_time": "2025-06-01T14:50:32.168780",
     "status": "completed"
    },
    "tags": []
   },
   "source": [
    "<div style=\"color:white;\n",
    "       display:fill;\n",
    "       border-radius:5px;\n",
    "       background-color:yellow;\n",
    "       font-size:120%;\n",
    "       font-family:Nexa;\n",
    "       style:justify;\n",
    "       font-family:'Times New Roman';\n",
    "       letter-spacing:0.5px\">\n",
    "    <p style=\"padding: 10px;\n",
    "          color:Black;\">\n",
    "         Normally, a power system operates under balanced conditions. When the system becomes unbalanced due to the failures of insulation at any point or due to the contact of live wires, a short–circuit or fault, is said to occur in the line. Faults may occur in the power system due to the number of reasons like natural disturbances (lightning, high-speed winds, earthquakes), insulation breakdown, falling of a tree, bird shorting, etc.\n",
    "    </p>\n",
    "</div>"
   ]
  },
  {
   "cell_type": "markdown",
   "id": "15d3a40f",
   "metadata": {
    "papermill": {
     "duration": 0.017356,
     "end_time": "2025-06-01T14:50:32.228053",
     "exception": false,
     "start_time": "2025-06-01T14:50:32.210697",
     "status": "completed"
    },
    "tags": []
   },
   "source": [
    "<span style=\"background-color:red;\n",
    "             color:white;\n",
    "             font-size:17px;\n",
    "             text-align:center;\n",
    "             border-radius:30px 80px;\n",
    "             font-weight:bold;\n",
    "             border:2px solid red;\n",
    "             padding:0px 20px;\">Faults can be brodly categorised into two types:\n",
    "</span>"
   ]
  },
  {
   "cell_type": "markdown",
   "id": "b74ccd8f",
   "metadata": {
    "papermill": {
     "duration": 0.015136,
     "end_time": "2025-06-01T14:50:32.260548",
     "exception": false,
     "start_time": "2025-06-01T14:50:32.245412",
     "status": "completed"
    },
    "tags": []
   },
   "source": [
    "**1. Open-circuit Fault**\n",
    "\n",
    "**2. Short-Circuit Faults**"
   ]
  },
  {
   "cell_type": "markdown",
   "id": "ad4e4fad",
   "metadata": {
    "papermill": {
     "duration": 0.014917,
     "end_time": "2025-06-01T14:50:32.291314",
     "exception": false,
     "start_time": "2025-06-01T14:50:32.276397",
     "status": "completed"
    },
    "tags": []
   },
   "source": [
    "<span style=\"background-color:Blue;\n",
    "             color:white;\n",
    "             font-size:17px;\n",
    "             text-align:center;\n",
    "             border-radius:30px 80px;\n",
    "             font-weight:bold;\n",
    "             border:2px solid Blue;\n",
    "             padding:0px 20px;\">Short-Circuit Faults\n",
    "</span>"
   ]
  },
  {
   "cell_type": "markdown",
   "id": "d91918a3",
   "metadata": {
    "papermill": {
     "duration": 0.0149,
     "end_time": "2025-06-01T14:50:32.321635",
     "exception": false,
     "start_time": "2025-06-01T14:50:32.306735",
     "status": "completed"
    },
    "tags": []
   },
   "source": [
    "**1. Symmetrical**\n",
    "\n",
    "**2. Asymmetrical Faults**"
   ]
  },
  {
   "cell_type": "markdown",
   "id": "0a8075f2",
   "metadata": {
    "papermill": {
     "duration": 0.014629,
     "end_time": "2025-06-01T14:50:32.351334",
     "exception": false,
     "start_time": "2025-06-01T14:50:32.336705",
     "status": "completed"
    },
    "tags": []
   },
   "source": [
    "<span style=\"background-color:red;\n",
    "             color:white;\n",
    "             font-size:17px;\n",
    "             text-align:center;\n",
    "             border-radius:30px 80px;\n",
    "             font-weight:bold;\n",
    "             border:2px solid red;\n",
    "             padding:0px 20px;\">Symmetrical and Asymmetrical Faults\n",
    "</span>"
   ]
  },
  {
   "cell_type": "markdown",
   "id": "6916a08e",
   "metadata": {
    "papermill": {
     "duration": 0.01469,
     "end_time": "2025-06-01T14:50:32.381035",
     "exception": false,
     "start_time": "2025-06-01T14:50:32.366345",
     "status": "completed"
    },
    "tags": []
   },
   "source": [
    "<span style=\"background-color:Blue;\n",
    "             color:white;\n",
    "             font-size:17px;\n",
    "             text-align:center;\n",
    "             border-radius:30px 80px;\n",
    "             font-weight:bold;\n",
    "             border:2px solid Blue;\n",
    "             padding:0px 20px;\">Symmetrical Faults\n",
    "</span>"
   ]
  },
  {
   "cell_type": "markdown",
   "id": "8fe610d7",
   "metadata": {
    "papermill": {
     "duration": 0.01488,
     "end_time": "2025-06-01T14:50:32.411438",
     "exception": false,
     "start_time": "2025-06-01T14:50:32.396558",
     "status": "completed"
    },
    "tags": []
   },
   "source": [
    "> * In symmetrical faults, all phases are shorted to each other or to earth (L-L-L) or (L-L-L-G).\n",
    "> * The nature of this type of fault is balanced.\n",
    "> * In this type of fault,fault currents in all phases are symmetrical i.e. their magnitudes are equal and they are equally displaced by angle 120 degree.\n",
    "> * It is more severe type of fault but it occurs rarely."
   ]
  },
  {
   "cell_type": "markdown",
   "id": "db58e905",
   "metadata": {
    "papermill": {
     "duration": 0.014687,
     "end_time": "2025-06-01T14:50:32.441010",
     "exception": false,
     "start_time": "2025-06-01T14:50:32.426323",
     "status": "completed"
    },
    "tags": []
   },
   "source": [
    "<span style=\"background-color:Blue;\n",
    "             color:white;\n",
    "             font-size:17px;\n",
    "             text-align:center;\n",
    "             border-radius:30px 80px;\n",
    "             font-weight:bold;\n",
    "             border:2px solid Blue;\n",
    "             padding:0px 20px;\">Asymmetrical Faults\n",
    "</span>"
   ]
  },
  {
   "cell_type": "markdown",
   "id": "080d7446",
   "metadata": {
    "papermill": {
     "duration": 0.014914,
     "end_time": "2025-06-01T14:50:32.471545",
     "exception": false,
     "start_time": "2025-06-01T14:50:32.456631",
     "status": "completed"
    },
    "tags": []
   },
   "source": [
    "> * These faults involve only one or two phases.\n",
    "> * In this type of fault, three phase lines become unbalanced.\n",
    "> * There are mainly three types namely line to ground (L-G), line to line (L-L) and double line to ground (LL-G) faults.\n",
    "> * These type of faults mostly occur on power system.."
   ]
  },
  {
   "cell_type": "markdown",
   "id": "26d05637",
   "metadata": {
    "papermill": {
     "duration": 0.014611,
     "end_time": "2025-06-01T14:50:32.501427",
     "exception": false,
     "start_time": "2025-06-01T14:50:32.486816",
     "status": "completed"
    },
    "tags": []
   },
   "source": [
    "<center> <img src=\"https://ars.els-cdn.com/content/image/1-s2.0-S2314717217300065-gr1.jpg\" width=\"600\" height=\"200\"> </center>"
   ]
  },
  {
   "cell_type": "markdown",
   "id": "8b50e05a",
   "metadata": {
    "papermill": {
     "duration": 0.014619,
     "end_time": "2025-06-01T14:50:32.531108",
     "exception": false,
     "start_time": "2025-06-01T14:50:32.516489",
     "status": "completed"
    },
    "tags": []
   },
   "source": [
    "<span style=\"background-color:red;\n",
    "             color:white;\n",
    "             font-size:17px;\n",
    "             text-align:center;\n",
    "             border-radius:30px 80px;\n",
    "             font-weight:bold;\n",
    "             border:2px solid red;\n",
    "             padding:0px 20px;\">About this dataset file\n",
    "</span>"
   ]
  },
  {
   "cell_type": "markdown",
   "id": "bd2424a0",
   "metadata": {
    "papermill": {
     "duration": 0.015753,
     "end_time": "2025-06-01T14:50:32.562104",
     "exception": false,
     "start_time": "2025-06-01T14:50:32.546351",
     "status": "completed"
    },
    "tags": []
   },
   "source": [
    "**This file contains the dataset to classify the types of fault.**\n",
    "\n",
    "- Inputs - [Ia,Ib,Ic,Va,Vb,Vc]\n",
    "\n",
    "> Ia = Current in line A\n",
    "\n",
    "> Ib = Current in line B\n",
    "\n",
    "> Ic = Current in line C\n",
    "\n",
    "\n",
    "> Va = Voltage in line A\n",
    "\n",
    "> Vb = Voltage in line B\n",
    "\n",
    "> Vc = Voltage in line C\n",
    "\n",
    "*Examples :*\n",
    "\n",
    "- [G C B A] - Outputs\n",
    "\n",
    "- [0 0 0 0] - No Fault\n",
    "\n",
    "\n",
    "- [1 0 0 0] - Ground Fault\n",
    "\n",
    "\n",
    "- [0 0 0 1] - Fault in Line A\n",
    "- [0 0 1 0] - Fault in Line B\n",
    "- [0 1 0 0] - Fault in Line C\n",
    "\n",
    "\n",
    "- [1 0 0 1] - LG fault (Between Phase A and Ground)\n",
    "- [1 0 1 0] - LG fault (Between Phase B and Ground)\n",
    "- [1 1 0 0] - LG fault (Between Phase C and Ground)\n",
    "\n",
    "\n",
    "- [0 0 1 1] - LL fault (Between Phase B and Phase A)\n",
    "- [0 1 1 0] - LL fault (Between Phase C and Phase B)\n",
    "- [0 1 0 1] - LL fault (Between Phase C and Phase A)\n",
    "\n",
    "\n",
    "- [1 1 0 0] - LG fault (Between Phase C and Ground)\n",
    "- [1 0 1 0] - LG fault (Between Phase B and Ground)\n",
    "- [1 0 0 1] - LG fault (Between Phase A and Ground)\n",
    "\n",
    "\n",
    "- [1 0 1 1] - LLG Fault (Between Phases A,B and Ground)\n",
    "- [1 1 0 1] - LLG Fault (Between Phases A,C and Ground)\n",
    "- [1 1 1 0] - LLG Fault (Between Phases C,B and Ground)\n",
    "\n",
    "\n",
    "- [0 1 1 1] - LLL Fault(Between all three phases)\n",
    "\n",
    "\n",
    "- [1 1 1 1] - LLLG fault( Three phase symmetrical fault)"
   ]
  },
  {
   "cell_type": "markdown",
   "id": "a5c30995",
   "metadata": {
    "papermill": {
     "duration": 0.01494,
     "end_time": "2025-06-01T14:50:32.592330",
     "exception": false,
     "start_time": "2025-06-01T14:50:32.577390",
     "status": "completed"
    },
    "tags": []
   },
   "source": [
    "<span class=\"label label-default\" style=\"background-color:#DC1010; border-radius:12px; font-weight: bold; font-family:Verdana; font-size:28px; color:#FBFAFC; \">Objectives of Notebook</span>"
   ]
  },
  {
   "cell_type": "markdown",
   "id": "db20cb9d",
   "metadata": {
    "papermill": {
     "duration": 0.014697,
     "end_time": "2025-06-01T14:50:32.621993",
     "exception": false,
     "start_time": "2025-06-01T14:50:32.607296",
     "status": "completed"
    },
    "tags": []
   },
   "source": [
    "<font color=\"$5831bc\" size=+2 face=\"Comic Sans MS\">1. Dataset exploration using various types of data visualization.</font>\n",
    "\n",
    "<font color=\"$5831bc\" size=+2 face=\"Comic Sans MS\">2. Build various Machine Learning models that can predict the Fault type in transmission Line.</font>"
   ]
  },
  {
   "cell_type": "markdown",
   "id": "e06d2603",
   "metadata": {
    "papermill": {
     "duration": 0.014806,
     "end_time": "2025-06-01T14:50:32.651668",
     "exception": false,
     "start_time": "2025-06-01T14:50:32.636862",
     "status": "completed"
    },
    "tags": []
   },
   "source": [
    "<span class=\"label label-default\" style=\"background-color:#DC1010; border-radius:12px; font-weight: bold; font-family:Verdana; font-size:28px; color:#FBFAFC; \">Importing Libraries:</span>"
   ]
  },
  {
   "cell_type": "code",
   "execution_count": 2,
   "id": "12b55b9d",
   "metadata": {
    "execution": {
     "iopub.execute_input": "2025-06-01T14:50:32.684006Z",
     "iopub.status.busy": "2025-06-01T14:50:32.683501Z",
     "iopub.status.idle": "2025-06-01T14:50:34.479224Z",
     "shell.execute_reply": "2025-06-01T14:50:34.478349Z"
    },
    "papermill": {
     "duration": 1.813717,
     "end_time": "2025-06-01T14:50:34.481066",
     "exception": false,
     "start_time": "2025-06-01T14:50:32.667349",
     "status": "completed"
    },
    "tags": []
   },
   "outputs": [],
   "source": [
    "import pandas as pd \n",
    "import numpy as np \n",
    "import seaborn as sns \n",
    "import matplotlib.pyplot as plt \n",
    "%matplotlib inline \n",
    "\n",
    "import warnings\n",
    "warnings.filterwarnings('ignore')"
   ]
  },
  {
   "cell_type": "code",
   "execution_count": 3,
   "id": "44970605",
   "metadata": {
    "execution": {
     "iopub.execute_input": "2025-06-01T14:50:34.513468Z",
     "iopub.status.busy": "2025-06-01T14:50:34.512943Z",
     "iopub.status.idle": "2025-06-01T14:50:34.523855Z",
     "shell.execute_reply": "2025-06-01T14:50:34.522855Z"
    },
    "papermill": {
     "duration": 0.028623,
     "end_time": "2025-06-01T14:50:34.525357",
     "exception": false,
     "start_time": "2025-06-01T14:50:34.496734",
     "status": "completed"
    },
    "tags": []
   },
   "outputs": [],
   "source": [
    "sns.set_theme(context='notebook',\n",
    "              style='white',\n",
    "              palette='deep',\n",
    "              font='Lucida Calligraphy',\n",
    "              font_scale=1.5,\n",
    "              color_codes=True,\n",
    "              rc=None)\n",
    "\n",
    "import matplotlib\n",
    "\n",
    "plt.rcParams['figure.figsize'] = (14,8) \n",
    "plt.rcParams['figure.facecolor'] = '#F0F8FF'\n",
    "plt.rcParams['figure.titlesize'] = 'medium'\n",
    "plt.rcParams['figure.dpi'] = 150\n",
    "plt.rcParams['figure.edgecolor'] = 'green'\n",
    "plt.rcParams['figure.frameon'] = True\n",
    "\n",
    "plt.rcParams[\"figure.autolayout\"] = True\n",
    "\n",
    "plt.rcParams['axes.facecolor'] = '#F5F5DC'\n",
    "plt.rcParams['axes.titlesize'] = 25   \n",
    "plt.rcParams[\"axes.titleweight\"] = 'normal'\n",
    "plt.rcParams[\"axes.titlecolor\"] = 'Olive'\n",
    "plt.rcParams['axes.edgecolor'] = 'pink'\n",
    "\n",
    "plt.rcParams[\"axes.linewidth\"] = 2\n",
    "plt.rcParams[\"axes.grid\"] = True\n",
    "plt.rcParams['axes.titlelocation'] = 'center' \n",
    "plt.rcParams[\"axes.labelsize\"] = 20\n",
    "plt.rcParams[\"axes.labelpad\"] = 2\n",
    "plt.rcParams['axes.labelweight'] = 1\n",
    "plt.rcParams[\"axes.labelcolor\"] = 'Olive'\n",
    "plt.rcParams[\"axes.axisbelow\"] = False \n",
    "plt.rcParams['axes.xmargin'] = .2\n",
    "plt.rcParams[\"axes.ymargin\"] = .2\n",
    "\n",
    "plt.rcParams[\"xtick.bottom\"] = True \n",
    "plt.rcParams['xtick.color'] = '#A52A2A'\n",
    "plt.rcParams[\"ytick.left\"] = True  \n",
    "plt.rcParams['ytick.color'] = '#A52A2A'\n",
    "\n",
    "plt.rcParams['axes.grid'] = True \n",
    "plt.rcParams['grid.color'] = 'green'\n",
    "plt.rcParams['grid.linestyle'] = '--' \n",
    "plt.rcParams['grid.linewidth'] = .5\n",
    "plt.rcParams['grid.alpha'] = .3       \n",
    "\n",
    "plt.rcParams['legend.loc'] = 'best' \n",
    "plt.rcParams['legend.facecolor'] =  'NavajoWhite'  \n",
    "plt.rcParams['legend.edgecolor'] = 'pink'\n",
    "plt.rcParams['legend.shadow'] = True\n",
    "plt.rcParams['legend.fontsize'] = 20\n",
    "\n",
    "\n",
    "plt.rcParams['font.family'] = 'Lucida Calligraphy'\n",
    "plt.rcParams['font.size'] = 14\n",
    "\n",
    "plt.rcParams['figure.dpi'] = 150\n",
    "plt.rcParams['figure.edgecolor'] = 'Blue'"
   ]
  },
  {
   "cell_type": "code",
   "execution_count": 4,
   "id": "d4917b9e",
   "metadata": {
    "execution": {
     "iopub.execute_input": "2025-06-01T14:50:34.559017Z",
     "iopub.status.busy": "2025-06-01T14:50:34.558094Z",
     "iopub.status.idle": "2025-06-01T14:50:34.789670Z",
     "shell.execute_reply": "2025-06-01T14:50:34.788784Z"
    },
    "papermill": {
     "duration": 0.250327,
     "end_time": "2025-06-01T14:50:34.791256",
     "exception": false,
     "start_time": "2025-06-01T14:50:34.540929",
     "status": "completed"
    },
    "tags": []
   },
   "outputs": [
    {
     "data": {
      "text/html": [
       "<style type=\"text/css\">\n",
       "#T_028d8_row0_col0, #T_028d8_row0_col1, #T_028d8_row0_col2, #T_028d8_row0_col3, #T_028d8_row0_col4, #T_028d8_row0_col5, #T_028d8_row0_col6, #T_028d8_row0_col7, #T_028d8_row0_col8, #T_028d8_row0_col9, #T_028d8_row1_col0, #T_028d8_row1_col1, #T_028d8_row1_col2, #T_028d8_row1_col3, #T_028d8_row1_col4, #T_028d8_row1_col5, #T_028d8_row1_col6, #T_028d8_row1_col7, #T_028d8_row1_col8, #T_028d8_row1_col9, #T_028d8_row2_col0, #T_028d8_row2_col1, #T_028d8_row2_col2, #T_028d8_row2_col3, #T_028d8_row2_col4, #T_028d8_row2_col5, #T_028d8_row2_col6, #T_028d8_row2_col7, #T_028d8_row2_col8, #T_028d8_row2_col9, #T_028d8_row3_col0, #T_028d8_row3_col1, #T_028d8_row3_col2, #T_028d8_row3_col3, #T_028d8_row3_col4, #T_028d8_row3_col5, #T_028d8_row3_col6, #T_028d8_row3_col7, #T_028d8_row3_col8, #T_028d8_row3_col9, #T_028d8_row4_col0, #T_028d8_row4_col1, #T_028d8_row4_col2, #T_028d8_row4_col3, #T_028d8_row4_col4, #T_028d8_row4_col5, #T_028d8_row4_col6, #T_028d8_row4_col7, #T_028d8_row4_col8, #T_028d8_row4_col9 {\n",
       "  background-color: blue;\n",
       "  color: white;\n",
       "  border-color: darkblack;\n",
       "}\n",
       "</style>\n",
       "<table id=\"T_028d8\">\n",
       "  <thead>\n",
       "    <tr>\n",
       "      <th class=\"blank level0\" >&nbsp;</th>\n",
       "      <th id=\"T_028d8_level0_col0\" class=\"col_heading level0 col0\" >G</th>\n",
       "      <th id=\"T_028d8_level0_col1\" class=\"col_heading level0 col1\" >C</th>\n",
       "      <th id=\"T_028d8_level0_col2\" class=\"col_heading level0 col2\" >B</th>\n",
       "      <th id=\"T_028d8_level0_col3\" class=\"col_heading level0 col3\" >A</th>\n",
       "      <th id=\"T_028d8_level0_col4\" class=\"col_heading level0 col4\" >Ia</th>\n",
       "      <th id=\"T_028d8_level0_col5\" class=\"col_heading level0 col5\" >Ib</th>\n",
       "      <th id=\"T_028d8_level0_col6\" class=\"col_heading level0 col6\" >Ic</th>\n",
       "      <th id=\"T_028d8_level0_col7\" class=\"col_heading level0 col7\" >Va</th>\n",
       "      <th id=\"T_028d8_level0_col8\" class=\"col_heading level0 col8\" >Vb</th>\n",
       "      <th id=\"T_028d8_level0_col9\" class=\"col_heading level0 col9\" >Vc</th>\n",
       "    </tr>\n",
       "  </thead>\n",
       "  <tbody>\n",
       "    <tr>\n",
       "      <th id=\"T_028d8_level0_row0\" class=\"row_heading level0 row0\" >273</th>\n",
       "      <td id=\"T_028d8_row0_col0\" class=\"data row0 col0\" >1</td>\n",
       "      <td id=\"T_028d8_row0_col1\" class=\"data row0 col1\" >0</td>\n",
       "      <td id=\"T_028d8_row0_col2\" class=\"data row0 col2\" >0</td>\n",
       "      <td id=\"T_028d8_row0_col3\" class=\"data row0 col3\" >1</td>\n",
       "      <td id=\"T_028d8_row0_col4\" class=\"data row0 col4\" >738.622687</td>\n",
       "      <td id=\"T_028d8_row0_col5\" class=\"data row0 col5\" >18.265830</td>\n",
       "      <td id=\"T_028d8_row0_col6\" class=\"data row0 col6\" >28.509056</td>\n",
       "      <td id=\"T_028d8_row0_col7\" class=\"data row0 col7\" >0.155290</td>\n",
       "      <td id=\"T_028d8_row0_col8\" class=\"data row0 col8\" >-0.484075</td>\n",
       "      <td id=\"T_028d8_row0_col9\" class=\"data row0 col9\" >0.328785</td>\n",
       "    </tr>\n",
       "    <tr>\n",
       "      <th id=\"T_028d8_level0_row1\" class=\"row_heading level0 row1\" >3079</th>\n",
       "      <td id=\"T_028d8_row1_col0\" class=\"data row1 col0\" >0</td>\n",
       "      <td id=\"T_028d8_row1_col1\" class=\"data row1 col1\" >1</td>\n",
       "      <td id=\"T_028d8_row1_col2\" class=\"data row1 col2\" >1</td>\n",
       "      <td id=\"T_028d8_row1_col3\" class=\"data row1 col3\" >0</td>\n",
       "      <td id=\"T_028d8_row1_col4\" class=\"data row1 col4\" >50.834700</td>\n",
       "      <td id=\"T_028d8_row1_col5\" class=\"data row1 col5\" >-62.937804</td>\n",
       "      <td id=\"T_028d8_row1_col6\" class=\"data row1 col6\" >14.708617</td>\n",
       "      <td id=\"T_028d8_row1_col7\" class=\"data row1 col7\" >0.460307</td>\n",
       "      <td id=\"T_028d8_row1_col8\" class=\"data row1 col8\" >0.042368</td>\n",
       "      <td id=\"T_028d8_row1_col9\" class=\"data row1 col9\" >-0.502676</td>\n",
       "    </tr>\n",
       "    <tr>\n",
       "      <th id=\"T_028d8_level0_row2\" class=\"row_heading level0 row2\" >6009</th>\n",
       "      <td id=\"T_028d8_row2_col0\" class=\"data row2 col0\" >0</td>\n",
       "      <td id=\"T_028d8_row2_col1\" class=\"data row2 col1\" >0</td>\n",
       "      <td id=\"T_028d8_row2_col2\" class=\"data row2 col2\" >0</td>\n",
       "      <td id=\"T_028d8_row2_col3\" class=\"data row2 col3\" >0</td>\n",
       "      <td id=\"T_028d8_row2_col4\" class=\"data row2 col4\" >50.566503</td>\n",
       "      <td id=\"T_028d8_row2_col5\" class=\"data row2 col5\" >-12.512740</td>\n",
       "      <td id=\"T_028d8_row2_col6\" class=\"data row2 col6\" >-41.479414</td>\n",
       "      <td id=\"T_028d8_row2_col7\" class=\"data row2 col7\" >0.308178</td>\n",
       "      <td id=\"T_028d8_row2_col8\" class=\"data row2 col8\" >0.304110</td>\n",
       "      <td id=\"T_028d8_row2_col9\" class=\"data row2 col9\" >-0.612287</td>\n",
       "    </tr>\n",
       "    <tr>\n",
       "      <th id=\"T_028d8_level0_row3\" class=\"row_heading level0 row3\" >7753</th>\n",
       "      <td id=\"T_028d8_row3_col0\" class=\"data row3 col0\" >0</td>\n",
       "      <td id=\"T_028d8_row3_col1\" class=\"data row3 col1\" >0</td>\n",
       "      <td id=\"T_028d8_row3_col2\" class=\"data row3 col2\" >0</td>\n",
       "      <td id=\"T_028d8_row3_col3\" class=\"data row3 col3\" >0</td>\n",
       "      <td id=\"T_028d8_row3_col4\" class=\"data row3 col4\" >-29.125159</td>\n",
       "      <td id=\"T_028d8_row3_col5\" class=\"data row3 col5\" >92.839294</td>\n",
       "      <td id=\"T_028d8_row3_col6\" class=\"data row3 col6\" >-66.611312</td>\n",
       "      <td id=\"T_028d8_row3_col7\" class=\"data row3 col7\" >-0.613067</td>\n",
       "      <td id=\"T_028d8_row3_col8\" class=\"data row3 col8\" >0.250582</td>\n",
       "      <td id=\"T_028d8_row3_col9\" class=\"data row3 col9\" >0.362485</td>\n",
       "    </tr>\n",
       "    <tr>\n",
       "      <th id=\"T_028d8_level0_row4\" class=\"row_heading level0 row4\" >5308</th>\n",
       "      <td id=\"T_028d8_row4_col0\" class=\"data row4 col0\" >1</td>\n",
       "      <td id=\"T_028d8_row4_col1\" class=\"data row4 col1\" >1</td>\n",
       "      <td id=\"T_028d8_row4_col2\" class=\"data row4 col2\" >1</td>\n",
       "      <td id=\"T_028d8_row4_col3\" class=\"data row4 col3\" >1</td>\n",
       "      <td id=\"T_028d8_row4_col4\" class=\"data row4 col4\" >113.870972</td>\n",
       "      <td id=\"T_028d8_row4_col5\" class=\"data row4 col5\" >-815.980708</td>\n",
       "      <td id=\"T_028d8_row4_col6\" class=\"data row4 col6\" >702.107472</td>\n",
       "      <td id=\"T_028d8_row4_col7\" class=\"data row4 col7\" >-0.034702</td>\n",
       "      <td id=\"T_028d8_row4_col8\" class=\"data row4 col8\" >-0.003682</td>\n",
       "      <td id=\"T_028d8_row4_col9\" class=\"data row4 col9\" >0.038384</td>\n",
       "    </tr>\n",
       "  </tbody>\n",
       "</table>\n"
      ],
      "text/plain": [
       "<pandas.io.formats.style.Styler at 0x7d4571cc3610>"
      ]
     },
     "execution_count": 4,
     "metadata": {},
     "output_type": "execute_result"
    }
   ],
   "source": [
    "df_class = pd.read_csv(\"../input/electrical-fault-detection-and-classification/classData.csv\")\n",
    "df_class.sample(5).style.set_properties(**{'background-color': 'blue',\n",
    "                           'color': 'white',\n",
    "                           'border-color': 'darkblack'})"
   ]
  },
  {
   "cell_type": "markdown",
   "id": "211c75e2",
   "metadata": {
    "papermill": {
     "duration": 0.017006,
     "end_time": "2025-06-01T14:50:34.826139",
     "exception": false,
     "start_time": "2025-06-01T14:50:34.809133",
     "status": "completed"
    },
    "tags": []
   },
   "source": [
    "<span style=\"background-color:red;\n",
    "             color:white;\n",
    "             font-size:17px;\n",
    "             text-align:center;\n",
    "             border-radius:30px 80px;\n",
    "             font-weight:bold;\n",
    "             border:2px solid red;\n",
    "             padding:0px 20px;\">Voltage is in Per Unit value (pu)\n",
    "</span>"
   ]
  },
  {
   "cell_type": "markdown",
   "id": "62860830",
   "metadata": {
    "papermill": {
     "duration": 0.015065,
     "end_time": "2025-06-01T14:50:34.856719",
     "exception": false,
     "start_time": "2025-06-01T14:50:34.841654",
     "status": "completed"
    },
    "tags": []
   },
   "source": [
    "<code style=\"background:yellow;color:red\">If there is any confusion regarding the values of the Line voltages, then let it be clarify that they are most probably in p.u. value i.e.</code>\n",
    "\n",
    "> <font color=\"Blue\" size=+2.5 face=\"Lucida Calligraphy\"><div style=\"text-align: justify\">$V_{p.u.} = \\frac{V}{V_{base}} $</font>\n",
    "\n",
    "<code style=\"background:yellow;color:red\">In actual the power system consists of 4 generators of 11 × 10^3 V. so we can convert by multiplying them by $11000$ Volts provided they have taken 11k as their base.</code>"
   ]
  },
  {
   "cell_type": "code",
   "execution_count": 5,
   "id": "c91b64b2",
   "metadata": {
    "execution": {
     "iopub.execute_input": "2025-06-01T14:50:34.888810Z",
     "iopub.status.busy": "2025-06-01T14:50:34.888290Z",
     "iopub.status.idle": "2025-06-01T14:50:34.908413Z",
     "shell.execute_reply": "2025-06-01T14:50:34.907362Z"
    },
    "papermill": {
     "duration": 0.037887,
     "end_time": "2025-06-01T14:50:34.909920",
     "exception": false,
     "start_time": "2025-06-01T14:50:34.872033",
     "status": "completed"
    },
    "tags": []
   },
   "outputs": [
    {
     "name": "stdout",
     "output_type": "stream",
     "text": [
      "<class 'pandas.core.frame.DataFrame'>\n",
      "RangeIndex: 7861 entries, 0 to 7860\n",
      "Data columns (total 10 columns):\n",
      " #   Column  Non-Null Count  Dtype  \n",
      "---  ------  --------------  -----  \n",
      " 0   G       7861 non-null   int64  \n",
      " 1   C       7861 non-null   int64  \n",
      " 2   B       7861 non-null   int64  \n",
      " 3   A       7861 non-null   int64  \n",
      " 4   Ia      7861 non-null   float64\n",
      " 5   Ib      7861 non-null   float64\n",
      " 6   Ic      7861 non-null   float64\n",
      " 7   Va      7861 non-null   float64\n",
      " 8   Vb      7861 non-null   float64\n",
      " 9   Vc      7861 non-null   float64\n",
      "dtypes: float64(6), int64(4)\n",
      "memory usage: 614.3 KB\n"
     ]
    }
   ],
   "source": [
    "df_class.info()"
   ]
  },
  {
   "cell_type": "code",
   "execution_count": 6,
   "id": "8003121b",
   "metadata": {
    "execution": {
     "iopub.execute_input": "2025-06-01T14:50:34.942832Z",
     "iopub.status.busy": "2025-06-01T14:50:34.942483Z",
     "iopub.status.idle": "2025-06-01T14:50:34.949132Z",
     "shell.execute_reply": "2025-06-01T14:50:34.948416Z"
    },
    "papermill": {
     "duration": 0.024753,
     "end_time": "2025-06-01T14:50:34.950532",
     "exception": false,
     "start_time": "2025-06-01T14:50:34.925779",
     "status": "completed"
    },
    "tags": []
   },
   "outputs": [
    {
     "data": {
      "text/plain": [
       "0"
      ]
     },
     "execution_count": 6,
     "metadata": {},
     "output_type": "execute_result"
    }
   ],
   "source": [
    "df_class.isnull().sum().sum()"
   ]
  },
  {
   "cell_type": "code",
   "execution_count": 7,
   "id": "0e8bf136",
   "metadata": {
    "execution": {
     "iopub.execute_input": "2025-06-01T14:50:34.985746Z",
     "iopub.status.busy": "2025-06-01T14:50:34.985344Z",
     "iopub.status.idle": "2025-06-01T14:50:34.990701Z",
     "shell.execute_reply": "2025-06-01T14:50:34.989920Z"
    },
    "papermill": {
     "duration": 0.02322,
     "end_time": "2025-06-01T14:50:34.991966",
     "exception": false,
     "start_time": "2025-06-01T14:50:34.968746",
     "status": "completed"
    },
    "tags": []
   },
   "outputs": [
    {
     "data": {
      "text/plain": [
       "(7861, 10)"
      ]
     },
     "execution_count": 7,
     "metadata": {},
     "output_type": "execute_result"
    }
   ],
   "source": [
    "df_class.shape"
   ]
  },
  {
   "cell_type": "code",
   "execution_count": 8,
   "id": "035bd4df",
   "metadata": {
    "execution": {
     "iopub.execute_input": "2025-06-01T14:50:35.025966Z",
     "iopub.status.busy": "2025-06-01T14:50:35.025650Z",
     "iopub.status.idle": "2025-06-01T14:50:35.767369Z",
     "shell.execute_reply": "2025-06-01T14:50:35.766554Z"
    },
    "papermill": {
     "duration": 0.761403,
     "end_time": "2025-06-01T14:50:35.770331",
     "exception": false,
     "start_time": "2025-06-01T14:50:35.008928",
     "status": "completed"
    },
    "tags": []
   },
   "outputs": [
    {
     "data": {
      "image/png": "[encoded data removed]",
      "text/plain": [
       "<Figure size 2100x1200 with 2 Axes>"
      ]
     },
     "metadata": {},
     "output_type": "display_data"
    }
   ],
   "source": [
    "ax = plt.subplot(1,2,1)\n",
    "ax = sns.countplot(x='G', data=df_class)\n",
    "ax.bar_label(ax.containers[0])\n",
    "plt.title(\"Ground Fault\", fontsize=20,color = 'Brown',font='Lucida Calligraphy',pad=20)\n",
    "\n",
    "ax =plt.subplot(1,2,2)\n",
    "ax=df_class['G'].value_counts().plot.pie(explode=[0.1, 0.1],autopct='%1.2f%%',shadow=True);\n",
    "ax.set_title(label = \"Ground Fault\", fontsize = 20,color='Brown',font='Lucida Calligraphy',pad=20);"
   ]
  },
  {
   "cell_type": "code",
   "execution_count": 9,
   "id": "c527ff42",
   "metadata": {
    "execution": {
     "iopub.execute_input": "2025-06-01T14:50:35.809130Z",
     "iopub.status.busy": "2025-06-01T14:50:35.808854Z",
     "iopub.status.idle": "2025-06-01T14:50:36.387766Z",
     "shell.execute_reply": "2025-06-01T14:50:36.386656Z"
    },
    "papermill": {
     "duration": 0.600807,
     "end_time": "2025-06-01T14:50:36.390208",
     "exception": false,
     "start_time": "2025-06-01T14:50:35.789401",
     "status": "completed"
    },
    "tags": []
   },
   "outputs": [
    {
     "data": {
      "image/png": "[encoded data removed]",
      "text/plain": [
       "<Figure size 2100x1200 with 2 Axes>"
      ]
     },
     "metadata": {},
     "output_type": "display_data"
    }
   ],
   "source": [
    "ax = plt.subplot(1,2,1)\n",
    "ax = sns.countplot(x='A', data=df_class)\n",
    "ax.bar_label(ax.containers[0])\n",
    "plt.title(\"Line A Fault\", fontsize=20,color = 'Brown',font='Lucida Calligraphy',pad=20)\n",
    "\n",
    "ax =plt.subplot(1,2,2)\n",
    "ax=df_class['A'].value_counts().plot.pie(explode=[0.1, 0.1],autopct='%1.2f%%',shadow=True);\n",
    "ax.set_title(label = \"Line A Fault\", fontsize = 20,color='Brown',font='Lucida Calligraphy',pad=20);"
   ]
  },
  {
   "cell_type": "code",
   "execution_count": 10,
   "id": "fff18ef4",
   "metadata": {
    "execution": {
     "iopub.execute_input": "2025-06-01T14:50:36.442809Z",
     "iopub.status.busy": "2025-06-01T14:50:36.441999Z",
     "iopub.status.idle": "2025-06-01T14:50:36.990939Z",
     "shell.execute_reply": "2025-06-01T14:50:36.989968Z"
    },
    "papermill": {
     "duration": 0.575758,
     "end_time": "2025-06-01T14:50:36.994381",
     "exception": false,
     "start_time": "2025-06-01T14:50:36.418623",
     "status": "completed"
    },
    "tags": []
   },
   "outputs": [
    {
     "data": {
      "image/png": "[encoded data removed]",
      "text/plain": [
       "<Figure size 2100x1200 with 2 Axes>"
      ]
     },
     "metadata": {},
     "output_type": "display_data"
    }
   ],
   "source": [
    "ax = plt.subplot(1,2,1)\n",
    "ax = sns.countplot(x='B', data=df_class)\n",
    "ax.bar_label(ax.containers[0])\n",
    "plt.title(\"Line B Fault\", fontsize=20,color = 'Brown',font='Lucida Calligraphy',pad=20)\n",
    "\n",
    "ax =plt.subplot(1,2,2)\n",
    "ax=df_class['B'].value_counts().plot.pie(explode=[0.1, 0.1],autopct='%1.2f%%',shadow=True);\n",
    "ax.set_title(label = \"Line B Fault\", fontsize = 20,color='Brown',font='Lucida Calligraphy',pad=20);"
   ]
  },
  {
   "cell_type": "code",
   "execution_count": 11,
   "id": "e68e9f21",
   "metadata": {
    "execution": {
     "iopub.execute_input": "2025-06-01T14:50:37.043783Z",
     "iopub.status.busy": "2025-06-01T14:50:37.043414Z",
     "iopub.status.idle": "2025-06-01T14:50:37.595936Z",
     "shell.execute_reply": "2025-06-01T14:50:37.594977Z"
    },
    "papermill": {
     "duration": 0.580351,
     "end_time": "2025-06-01T14:50:37.598984",
     "exception": false,
     "start_time": "2025-06-01T14:50:37.018633",
     "status": "completed"
    },
    "tags": []
   },
   "outputs": [
    {
     "data": {
      "image/png": "[encoded data removed]",
      "text/plain": [
       "<Figure size 2100x1200 with 2 Axes>"
      ]
     },
     "metadata": {},
     "output_type": "display_data"
    }
   ],
   "source": [
    "ax = plt.subplot(1,2,1)\n",
    "ax = sns.countplot(x='C', data=df_class)\n",
    "ax.bar_label(ax.containers[0])\n",
    "plt.title(\"Line C Fault\", fontsize=20,color = 'Brown',font='Lucida Calligraphy',pad=20)\n",
    "\n",
    "ax =plt.subplot(1,2,2)\n",
    "ax=df_class['C'].value_counts().plot.pie(explode=[0.1, 0.1],autopct='%1.2f%%',shadow=True);\n",
    "ax.set_title(label = \"Line C Fault\", fontsize = 20,color='Brown',font='Lucida Calligraphy',pad=20);"
   ]
  },
  {
   "cell_type": "markdown",
   "id": "8f78bc7a",
   "metadata": {
    "papermill": {
     "duration": 0.025859,
     "end_time": "2025-06-01T14:50:37.651977",
     "exception": false,
     "start_time": "2025-06-01T14:50:37.626118",
     "status": "completed"
    },
    "tags": []
   },
   "source": [
    "<span style=\"background-color:red;\n",
    "             color:white;\n",
    "             font-size:17px;\n",
    "             text-align:center;\n",
    "             border-radius:30px 80px;\n",
    "             font-weight:bold;\n",
    "             border:2px solid red;\n",
    "             padding:0px 20px;\">Combing all fault together in one Fault_Type \n",
    "</span>"
   ]
  },
  {
   "cell_type": "code",
   "execution_count": 12,
   "id": "af03c54d",
   "metadata": {
    "execution": {
     "iopub.execute_input": "2025-06-01T14:50:37.704252Z",
     "iopub.status.busy": "2025-06-01T14:50:37.703975Z",
     "iopub.status.idle": "2025-06-01T14:50:37.728474Z",
     "shell.execute_reply": "2025-06-01T14:50:37.727598Z"
    },
    "papermill": {
     "duration": 0.052353,
     "end_time": "2025-06-01T14:50:37.729960",
     "exception": false,
     "start_time": "2025-06-01T14:50:37.677607",
     "status": "completed"
    },
    "tags": []
   },
   "outputs": [
    {
     "data": {
      "text/html": [
       "<style type=\"text/css\">\n",
       "#T_a00a9_row0_col0, #T_a00a9_row0_col1, #T_a00a9_row0_col2, #T_a00a9_row0_col3, #T_a00a9_row0_col4, #T_a00a9_row0_col5, #T_a00a9_row0_col6, #T_a00a9_row0_col7, #T_a00a9_row0_col8, #T_a00a9_row0_col9, #T_a00a9_row0_col10, #T_a00a9_row1_col0, #T_a00a9_row1_col1, #T_a00a9_row1_col2, #T_a00a9_row1_col3, #T_a00a9_row1_col4, #T_a00a9_row1_col5, #T_a00a9_row1_col6, #T_a00a9_row1_col7, #T_a00a9_row1_col8, #T_a00a9_row1_col9, #T_a00a9_row1_col10, #T_a00a9_row2_col0, #T_a00a9_row2_col1, #T_a00a9_row2_col2, #T_a00a9_row2_col3, #T_a00a9_row2_col4, #T_a00a9_row2_col5, #T_a00a9_row2_col6, #T_a00a9_row2_col7, #T_a00a9_row2_col8, #T_a00a9_row2_col9, #T_a00a9_row2_col10, #T_a00a9_row3_col0, #T_a00a9_row3_col1, #T_a00a9_row3_col2, #T_a00a9_row3_col3, #T_a00a9_row3_col4, #T_a00a9_row3_col5, #T_a00a9_row3_col6, #T_a00a9_row3_col7, #T_a00a9_row3_col8, #T_a00a9_row3_col9, #T_a00a9_row3_col10, #T_a00a9_row4_col0, #T_a00a9_row4_col1, #T_a00a9_row4_col2, #T_a00a9_row4_col3, #T_a00a9_row4_col4, #T_a00a9_row4_col5, #T_a00a9_row4_col6, #T_a00a9_row4_col7, #T_a00a9_row4_col8, #T_a00a9_row4_col9, #T_a00a9_row4_col10 {\n",
       "  background-color: blue;\n",
       "  color: white;\n",
       "  border-color: darkblack;\n",
       "}\n",
       "</style>\n",
       "<table id=\"T_a00a9\">\n",
       "  <thead>\n",
       "    <tr>\n",
       "      <th class=\"blank level0\" >&nbsp;</th>\n",
       "      <th id=\"T_a00a9_level0_col0\" class=\"col_heading level0 col0\" >G</th>\n",
       "      <th id=\"T_a00a9_level0_col1\" class=\"col_heading level0 col1\" >C</th>\n",
       "      <th id=\"T_a00a9_level0_col2\" class=\"col_heading level0 col2\" >B</th>\n",
       "      <th id=\"T_a00a9_level0_col3\" class=\"col_heading level0 col3\" >A</th>\n",
       "      <th id=\"T_a00a9_level0_col4\" class=\"col_heading level0 col4\" >Ia</th>\n",
       "      <th id=\"T_a00a9_level0_col5\" class=\"col_heading level0 col5\" >Ib</th>\n",
       "      <th id=\"T_a00a9_level0_col6\" class=\"col_heading level0 col6\" >Ic</th>\n",
       "      <th id=\"T_a00a9_level0_col7\" class=\"col_heading level0 col7\" >Va</th>\n",
       "      <th id=\"T_a00a9_level0_col8\" class=\"col_heading level0 col8\" >Vb</th>\n",
       "      <th id=\"T_a00a9_level0_col9\" class=\"col_heading level0 col9\" >Vc</th>\n",
       "      <th id=\"T_a00a9_level0_col10\" class=\"col_heading level0 col10\" >Fault_Type</th>\n",
       "    </tr>\n",
       "  </thead>\n",
       "  <tbody>\n",
       "    <tr>\n",
       "      <th id=\"T_a00a9_level0_row0\" class=\"row_heading level0 row0\" >0</th>\n",
       "      <td id=\"T_a00a9_row0_col0\" class=\"data row0 col0\" >1</td>\n",
       "      <td id=\"T_a00a9_row0_col1\" class=\"data row0 col1\" >0</td>\n",
       "      <td id=\"T_a00a9_row0_col2\" class=\"data row0 col2\" >0</td>\n",
       "      <td id=\"T_a00a9_row0_col3\" class=\"data row0 col3\" >1</td>\n",
       "      <td id=\"T_a00a9_row0_col4\" class=\"data row0 col4\" >-151.291812</td>\n",
       "      <td id=\"T_a00a9_row0_col5\" class=\"data row0 col5\" >-9.677452</td>\n",
       "      <td id=\"T_a00a9_row0_col6\" class=\"data row0 col6\" >85.800162</td>\n",
       "      <td id=\"T_a00a9_row0_col7\" class=\"data row0 col7\" >0.400750</td>\n",
       "      <td id=\"T_a00a9_row0_col8\" class=\"data row0 col8\" >-0.132935</td>\n",
       "      <td id=\"T_a00a9_row0_col9\" class=\"data row0 col9\" >-0.267815</td>\n",
       "      <td id=\"T_a00a9_row0_col10\" class=\"data row0 col10\" >1001</td>\n",
       "    </tr>\n",
       "    <tr>\n",
       "      <th id=\"T_a00a9_level0_row1\" class=\"row_heading level0 row1\" >1</th>\n",
       "      <td id=\"T_a00a9_row1_col0\" class=\"data row1 col0\" >1</td>\n",
       "      <td id=\"T_a00a9_row1_col1\" class=\"data row1 col1\" >0</td>\n",
       "      <td id=\"T_a00a9_row1_col2\" class=\"data row1 col2\" >0</td>\n",
       "      <td id=\"T_a00a9_row1_col3\" class=\"data row1 col3\" >1</td>\n",
       "      <td id=\"T_a00a9_row1_col4\" class=\"data row1 col4\" >-336.186183</td>\n",
       "      <td id=\"T_a00a9_row1_col5\" class=\"data row1 col5\" >-76.283262</td>\n",
       "      <td id=\"T_a00a9_row1_col6\" class=\"data row1 col6\" >18.328897</td>\n",
       "      <td id=\"T_a00a9_row1_col7\" class=\"data row1 col7\" >0.312732</td>\n",
       "      <td id=\"T_a00a9_row1_col8\" class=\"data row1 col8\" >-0.123633</td>\n",
       "      <td id=\"T_a00a9_row1_col9\" class=\"data row1 col9\" >-0.189099</td>\n",
       "      <td id=\"T_a00a9_row1_col10\" class=\"data row1 col10\" >1001</td>\n",
       "    </tr>\n",
       "    <tr>\n",
       "      <th id=\"T_a00a9_level0_row2\" class=\"row_heading level0 row2\" >2</th>\n",
       "      <td id=\"T_a00a9_row2_col0\" class=\"data row2 col0\" >1</td>\n",
       "      <td id=\"T_a00a9_row2_col1\" class=\"data row2 col1\" >0</td>\n",
       "      <td id=\"T_a00a9_row2_col2\" class=\"data row2 col2\" >0</td>\n",
       "      <td id=\"T_a00a9_row2_col3\" class=\"data row2 col3\" >1</td>\n",
       "      <td id=\"T_a00a9_row2_col4\" class=\"data row2 col4\" >-502.891583</td>\n",
       "      <td id=\"T_a00a9_row2_col5\" class=\"data row2 col5\" >-174.648023</td>\n",
       "      <td id=\"T_a00a9_row2_col6\" class=\"data row2 col6\" >-80.924663</td>\n",
       "      <td id=\"T_a00a9_row2_col7\" class=\"data row2 col7\" >0.265728</td>\n",
       "      <td id=\"T_a00a9_row2_col8\" class=\"data row2 col8\" >-0.114301</td>\n",
       "      <td id=\"T_a00a9_row2_col9\" class=\"data row2 col9\" >-0.151428</td>\n",
       "      <td id=\"T_a00a9_row2_col10\" class=\"data row2 col10\" >1001</td>\n",
       "    </tr>\n",
       "    <tr>\n",
       "      <th id=\"T_a00a9_level0_row3\" class=\"row_heading level0 row3\" >3</th>\n",
       "      <td id=\"T_a00a9_row3_col0\" class=\"data row3 col0\" >1</td>\n",
       "      <td id=\"T_a00a9_row3_col1\" class=\"data row3 col1\" >0</td>\n",
       "      <td id=\"T_a00a9_row3_col2\" class=\"data row3 col2\" >0</td>\n",
       "      <td id=\"T_a00a9_row3_col3\" class=\"data row3 col3\" >1</td>\n",
       "      <td id=\"T_a00a9_row3_col4\" class=\"data row3 col4\" >-593.941905</td>\n",
       "      <td id=\"T_a00a9_row3_col5\" class=\"data row3 col5\" >-217.703359</td>\n",
       "      <td id=\"T_a00a9_row3_col6\" class=\"data row3 col6\" >-124.891924</td>\n",
       "      <td id=\"T_a00a9_row3_col7\" class=\"data row3 col7\" >0.235511</td>\n",
       "      <td id=\"T_a00a9_row3_col8\" class=\"data row3 col8\" >-0.104940</td>\n",
       "      <td id=\"T_a00a9_row3_col9\" class=\"data row3 col9\" >-0.130570</td>\n",
       "      <td id=\"T_a00a9_row3_col10\" class=\"data row3 col10\" >1001</td>\n",
       "    </tr>\n",
       "    <tr>\n",
       "      <th id=\"T_a00a9_level0_row4\" class=\"row_heading level0 row4\" >4</th>\n",
       "      <td id=\"T_a00a9_row4_col0\" class=\"data row4 col0\" >1</td>\n",
       "      <td id=\"T_a00a9_row4_col1\" class=\"data row4 col1\" >0</td>\n",
       "      <td id=\"T_a00a9_row4_col2\" class=\"data row4 col2\" >0</td>\n",
       "      <td id=\"T_a00a9_row4_col3\" class=\"data row4 col3\" >1</td>\n",
       "      <td id=\"T_a00a9_row4_col4\" class=\"data row4 col4\" >-643.663617</td>\n",
       "      <td id=\"T_a00a9_row4_col5\" class=\"data row4 col5\" >-224.159427</td>\n",
       "      <td id=\"T_a00a9_row4_col6\" class=\"data row4 col6\" >-132.282815</td>\n",
       "      <td id=\"T_a00a9_row4_col7\" class=\"data row4 col7\" >0.209537</td>\n",
       "      <td id=\"T_a00a9_row4_col8\" class=\"data row4 col8\" >-0.095554</td>\n",
       "      <td id=\"T_a00a9_row4_col9\" class=\"data row4 col9\" >-0.113983</td>\n",
       "      <td id=\"T_a00a9_row4_col10\" class=\"data row4 col10\" >1001</td>\n",
       "    </tr>\n",
       "  </tbody>\n",
       "</table>\n"
      ],
      "text/plain": [
       "<pandas.io.formats.style.Styler at 0x7d456fc56090>"
      ]
     },
     "execution_count": 12,
     "metadata": {},
     "output_type": "execute_result"
    }
   ],
   "source": [
    "df_class['Fault_Type'] = df_class['G'].astype('str') + df_class['C'].astype('str') + df_class['B'].astype('str') + df_class['A'].astype('str')\n",
    "df_class.head().style.set_properties(**{'background-color': 'blue',\n",
    "                           'color': 'white',\n",
    "                           'border-color': 'darkblack'})"
   ]
  },
  {
   "cell_type": "markdown",
   "id": "09ad1b02",
   "metadata": {
    "papermill": {
     "duration": 0.025506,
     "end_time": "2025-06-01T14:50:37.781655",
     "exception": false,
     "start_time": "2025-06-01T14:50:37.756149",
     "status": "completed"
    },
    "tags": []
   },
   "source": [
    "<span style=\"background-color:red;\n",
    "             color:white;\n",
    "             font-size:17px;\n",
    "             text-align:center;\n",
    "             border-radius:30px 80px;\n",
    "             font-weight:bold;\n",
    "             border:2px solid red;\n",
    "             padding:0px 20px;\">Giving the proper name to the fault according to the data description provided above \n",
    "</span>"
   ]
  },
  {
   "cell_type": "code",
   "execution_count": 13,
   "id": "afa975c7",
   "metadata": {
    "execution": {
     "iopub.execute_input": "2025-06-01T14:50:37.834205Z",
     "iopub.status.busy": "2025-06-01T14:50:37.833409Z",
     "iopub.status.idle": "2025-06-01T14:50:37.848931Z",
     "shell.execute_reply": "2025-06-01T14:50:37.848068Z"
    },
    "papermill": {
     "duration": 0.04339,
     "end_time": "2025-06-01T14:50:37.850397",
     "exception": false,
     "start_time": "2025-06-01T14:50:37.807007",
     "status": "completed"
    },
    "tags": []
   },
   "outputs": [],
   "source": [
    "df_class['Fault_Type'][df_class['Fault_Type'] == '0000' ] = 'NO Fault'\n",
    "df_class['Fault_Type'][df_class['Fault_Type'] == '1001' ] = 'Line A to Ground Fault'\n",
    "df_class['Fault_Type'][df_class['Fault_Type'] == '0110' ] = 'Line B to Line C Fault'\n",
    "df_class['Fault_Type'][df_class['Fault_Type'] == '1011' ] = 'Line A Line B to Ground Fault'\n",
    "df_class['Fault_Type'][df_class['Fault_Type'] == '0111' ] = 'Line A Line B Line C'\n",
    "df_class['Fault_Type'][df_class['Fault_Type'] == '1111' ] = 'Line A Line B Line C to Ground Fault'"
   ]
  },
  {
   "cell_type": "code",
   "execution_count": 14,
   "id": "e4cb8e6e",
   "metadata": {
    "execution": {
     "iopub.execute_input": "2025-06-01T14:50:37.903755Z",
     "iopub.status.busy": "2025-06-01T14:50:37.903420Z",
     "iopub.status.idle": "2025-06-01T14:50:37.917359Z",
     "shell.execute_reply": "2025-06-01T14:50:37.916341Z"
    },
    "papermill": {
     "duration": 0.042299,
     "end_time": "2025-06-01T14:50:37.919040",
     "exception": false,
     "start_time": "2025-06-01T14:50:37.876741",
     "status": "completed"
    },
    "tags": []
   },
   "outputs": [
    {
     "data": {
      "text/html": [
       "<style type=\"text/css\">\n",
       "#T_c61e7_row0_col0, #T_c61e7_row0_col1, #T_c61e7_row0_col2, #T_c61e7_row0_col3, #T_c61e7_row0_col4, #T_c61e7_row0_col5, #T_c61e7_row0_col6, #T_c61e7_row0_col7, #T_c61e7_row0_col8, #T_c61e7_row0_col9, #T_c61e7_row0_col10, #T_c61e7_row1_col0, #T_c61e7_row1_col1, #T_c61e7_row1_col2, #T_c61e7_row1_col3, #T_c61e7_row1_col4, #T_c61e7_row1_col5, #T_c61e7_row1_col6, #T_c61e7_row1_col7, #T_c61e7_row1_col8, #T_c61e7_row1_col9, #T_c61e7_row1_col10, #T_c61e7_row2_col0, #T_c61e7_row2_col1, #T_c61e7_row2_col2, #T_c61e7_row2_col3, #T_c61e7_row2_col4, #T_c61e7_row2_col5, #T_c61e7_row2_col6, #T_c61e7_row2_col7, #T_c61e7_row2_col8, #T_c61e7_row2_col9, #T_c61e7_row2_col10, #T_c61e7_row3_col0, #T_c61e7_row3_col1, #T_c61e7_row3_col2, #T_c61e7_row3_col3, #T_c61e7_row3_col4, #T_c61e7_row3_col5, #T_c61e7_row3_col6, #T_c61e7_row3_col7, #T_c61e7_row3_col8, #T_c61e7_row3_col9, #T_c61e7_row3_col10, #T_c61e7_row4_col0, #T_c61e7_row4_col1, #T_c61e7_row4_col2, #T_c61e7_row4_col3, #T_c61e7_row4_col4, #T_c61e7_row4_col5, #T_c61e7_row4_col6, #T_c61e7_row4_col7, #T_c61e7_row4_col8, #T_c61e7_row4_col9, #T_c61e7_row4_col10, #T_c61e7_row5_col0, #T_c61e7_row5_col1, #T_c61e7_row5_col2, #T_c61e7_row5_col3, #T_c61e7_row5_col4, #T_c61e7_row5_col5, #T_c61e7_row5_col6, #T_c61e7_row5_col7, #T_c61e7_row5_col8, #T_c61e7_row5_col9, #T_c61e7_row5_col10, #T_c61e7_row6_col0, #T_c61e7_row6_col1, #T_c61e7_row6_col2, #T_c61e7_row6_col3, #T_c61e7_row6_col4, #T_c61e7_row6_col5, #T_c61e7_row6_col6, #T_c61e7_row6_col7, #T_c61e7_row6_col8, #T_c61e7_row6_col9, #T_c61e7_row6_col10, #T_c61e7_row7_col0, #T_c61e7_row7_col1, #T_c61e7_row7_col2, #T_c61e7_row7_col3, #T_c61e7_row7_col4, #T_c61e7_row7_col5, #T_c61e7_row7_col6, #T_c61e7_row7_col7, #T_c61e7_row7_col8, #T_c61e7_row7_col9, #T_c61e7_row7_col10, #T_c61e7_row8_col0, #T_c61e7_row8_col1, #T_c61e7_row8_col2, #T_c61e7_row8_col3, #T_c61e7_row8_col4, #T_c61e7_row8_col5, #T_c61e7_row8_col6, #T_c61e7_row8_col7, #T_c61e7_row8_col8, #T_c61e7_row8_col9, #T_c61e7_row8_col10, #T_c61e7_row9_col0, #T_c61e7_row9_col1, #T_c61e7_row9_col2, #T_c61e7_row9_col3, #T_c61e7_row9_col4, #T_c61e7_row9_col5, #T_c61e7_row9_col6, #T_c61e7_row9_col7, #T_c61e7_row9_col8, #T_c61e7_row9_col9, #T_c61e7_row9_col10 {\n",
       "  background-color: blue;\n",
       "  color: white;\n",
       "  border-color: darkblack;\n",
       "}\n",
       "</style>\n",
       "<table id=\"T_c61e7\">\n",
       "  <thead>\n",
       "    <tr>\n",
       "      <th class=\"blank level0\" >&nbsp;</th>\n",
       "      <th id=\"T_c61e7_level0_col0\" class=\"col_heading level0 col0\" >G</th>\n",
       "      <th id=\"T_c61e7_level0_col1\" class=\"col_heading level0 col1\" >C</th>\n",
       "      <th id=\"T_c61e7_level0_col2\" class=\"col_heading level0 col2\" >B</th>\n",
       "      <th id=\"T_c61e7_level0_col3\" class=\"col_heading level0 col3\" >A</th>\n",
       "      <th id=\"T_c61e7_level0_col4\" class=\"col_heading level0 col4\" >Ia</th>\n",
       "      <th id=\"T_c61e7_level0_col5\" class=\"col_heading level0 col5\" >Ib</th>\n",
       "      <th id=\"T_c61e7_level0_col6\" class=\"col_heading level0 col6\" >Ic</th>\n",
       "      <th id=\"T_c61e7_level0_col7\" class=\"col_heading level0 col7\" >Va</th>\n",
       "      <th id=\"T_c61e7_level0_col8\" class=\"col_heading level0 col8\" >Vb</th>\n",
       "      <th id=\"T_c61e7_level0_col9\" class=\"col_heading level0 col9\" >Vc</th>\n",
       "      <th id=\"T_c61e7_level0_col10\" class=\"col_heading level0 col10\" >Fault_Type</th>\n",
       "    </tr>\n",
       "  </thead>\n",
       "  <tbody>\n",
       "    <tr>\n",
       "      <th id=\"T_c61e7_level0_row0\" class=\"row_heading level0 row0\" >3049</th>\n",
       "      <td id=\"T_c61e7_row0_col0\" class=\"data row0 col0\" >0</td>\n",
       "      <td id=\"T_c61e7_row0_col1\" class=\"data row0 col1\" >1</td>\n",
       "      <td id=\"T_c61e7_row0_col2\" class=\"data row0 col2\" >1</td>\n",
       "      <td id=\"T_c61e7_row0_col3\" class=\"data row0 col3\" >0</td>\n",
       "      <td id=\"T_c61e7_row0_col4\" class=\"data row0 col4\" >32.276427</td>\n",
       "      <td id=\"T_c61e7_row0_col5\" class=\"data row0 col5\" >297.521136</td>\n",
       "      <td id=\"T_c61e7_row0_col6\" class=\"data row0 col6\" >-327.177125</td>\n",
       "      <td id=\"T_c61e7_row0_col7\" class=\"data row0 col7\" >0.500509</td>\n",
       "      <td id=\"T_c61e7_row0_col8\" class=\"data row0 col8\" >0.037936</td>\n",
       "      <td id=\"T_c61e7_row0_col9\" class=\"data row0 col9\" >-0.538445</td>\n",
       "      <td id=\"T_c61e7_row0_col10\" class=\"data row0 col10\" >Line B to Line C Fault</td>\n",
       "    </tr>\n",
       "    <tr>\n",
       "      <th id=\"T_c61e7_level0_row1\" class=\"row_heading level0 row1\" >4085</th>\n",
       "      <td id=\"T_c61e7_row1_col0\" class=\"data row1 col0\" >0</td>\n",
       "      <td id=\"T_c61e7_row1_col1\" class=\"data row1 col1\" >1</td>\n",
       "      <td id=\"T_c61e7_row1_col2\" class=\"data row1 col2\" >1</td>\n",
       "      <td id=\"T_c61e7_row1_col3\" class=\"data row1 col3\" >1</td>\n",
       "      <td id=\"T_c61e7_row1_col4\" class=\"data row1 col4\" >-844.722898</td>\n",
       "      <td id=\"T_c61e7_row1_col5\" class=\"data row1 col5\" >645.644607</td>\n",
       "      <td id=\"T_c61e7_row1_col6\" class=\"data row1 col6\" >201.103826</td>\n",
       "      <td id=\"T_c61e7_row1_col7\" class=\"data row1 col7\" >-0.007918</td>\n",
       "      <td id=\"T_c61e7_row1_col8\" class=\"data row1 col8\" >0.040015</td>\n",
       "      <td id=\"T_c61e7_row1_col9\" class=\"data row1 col9\" >-0.032097</td>\n",
       "      <td id=\"T_c61e7_row1_col10\" class=\"data row1 col10\" >Line A Line B Line C</td>\n",
       "    </tr>\n",
       "    <tr>\n",
       "      <th id=\"T_c61e7_level0_row2\" class=\"row_heading level0 row2\" >5583</th>\n",
       "      <td id=\"T_c61e7_row2_col0\" class=\"data row2 col0\" >0</td>\n",
       "      <td id=\"T_c61e7_row2_col1\" class=\"data row2 col1\" >0</td>\n",
       "      <td id=\"T_c61e7_row2_col2\" class=\"data row2 col2\" >0</td>\n",
       "      <td id=\"T_c61e7_row2_col3\" class=\"data row2 col3\" >0</td>\n",
       "      <td id=\"T_c61e7_row2_col4\" class=\"data row2 col4\" >45.196925</td>\n",
       "      <td id=\"T_c61e7_row2_col5\" class=\"data row2 col5\" >-25.583693</td>\n",
       "      <td id=\"T_c61e7_row2_col6\" class=\"data row2 col6\" >-17.893397</td>\n",
       "      <td id=\"T_c61e7_row2_col7\" class=\"data row2 col7\" >0.486103</td>\n",
       "      <td id=\"T_c61e7_row2_col8\" class=\"data row2 col8\" >0.068891</td>\n",
       "      <td id=\"T_c61e7_row2_col9\" class=\"data row2 col9\" >-0.554994</td>\n",
       "      <td id=\"T_c61e7_row2_col10\" class=\"data row2 col10\" >NO Fault</td>\n",
       "    </tr>\n",
       "    <tr>\n",
       "      <th id=\"T_c61e7_level0_row3\" class=\"row_heading level0 row3\" >2023</th>\n",
       "      <td id=\"T_c61e7_row3_col0\" class=\"data row3 col0\" >1</td>\n",
       "      <td id=\"T_c61e7_row3_col1\" class=\"data row3 col1\" >0</td>\n",
       "      <td id=\"T_c61e7_row3_col2\" class=\"data row3 col2\" >1</td>\n",
       "      <td id=\"T_c61e7_row3_col3\" class=\"data row3 col3\" >1</td>\n",
       "      <td id=\"T_c61e7_row3_col4\" class=\"data row3 col4\" >-542.408932</td>\n",
       "      <td id=\"T_c61e7_row3_col5\" class=\"data row3 col5\" >-316.312900</td>\n",
       "      <td id=\"T_c61e7_row3_col6\" class=\"data row3 col6\" >-52.334054</td>\n",
       "      <td id=\"T_c61e7_row3_col7\" class=\"data row3 col7\" >-0.041602</td>\n",
       "      <td id=\"T_c61e7_row3_col8\" class=\"data row3 col8\" >0.367075</td>\n",
       "      <td id=\"T_c61e7_row3_col9\" class=\"data row3 col9\" >-0.325473</td>\n",
       "      <td id=\"T_c61e7_row3_col10\" class=\"data row3 col10\" >Line A Line B to Ground Fault</td>\n",
       "    </tr>\n",
       "    <tr>\n",
       "      <th id=\"T_c61e7_level0_row4\" class=\"row_heading level0 row4\" >2434</th>\n",
       "      <td id=\"T_c61e7_row4_col0\" class=\"data row4 col0\" >0</td>\n",
       "      <td id=\"T_c61e7_row4_col1\" class=\"data row4 col1\" >1</td>\n",
       "      <td id=\"T_c61e7_row4_col2\" class=\"data row4 col2\" >1</td>\n",
       "      <td id=\"T_c61e7_row4_col3\" class=\"data row4 col3\" >0</td>\n",
       "      <td id=\"T_c61e7_row4_col4\" class=\"data row4 col4\" >-32.678780</td>\n",
       "      <td id=\"T_c61e7_row4_col5\" class=\"data row4 col5\" >-453.223622</td>\n",
       "      <td id=\"T_c61e7_row4_col6\" class=\"data row4 col6\" >488.351529</td>\n",
       "      <td id=\"T_c61e7_row4_col7\" class=\"data row4 col7\" >-0.486036</td>\n",
       "      <td id=\"T_c61e7_row4_col8\" class=\"data row4 col8\" >-0.032747</td>\n",
       "      <td id=\"T_c61e7_row4_col9\" class=\"data row4 col9\" >0.518783</td>\n",
       "      <td id=\"T_c61e7_row4_col10\" class=\"data row4 col10\" >Line B to Line C Fault</td>\n",
       "    </tr>\n",
       "    <tr>\n",
       "      <th id=\"T_c61e7_level0_row5\" class=\"row_heading level0 row5\" >4430</th>\n",
       "      <td id=\"T_c61e7_row5_col0\" class=\"data row5 col0\" >1</td>\n",
       "      <td id=\"T_c61e7_row5_col1\" class=\"data row5 col1\" >1</td>\n",
       "      <td id=\"T_c61e7_row5_col2\" class=\"data row5 col2\" >1</td>\n",
       "      <td id=\"T_c61e7_row5_col3\" class=\"data row5 col3\" >1</td>\n",
       "      <td id=\"T_c61e7_row5_col4\" class=\"data row5 col4\" >-703.629245</td>\n",
       "      <td id=\"T_c61e7_row5_col5\" class=\"data row5 col5\" >-74.053968</td>\n",
       "      <td id=\"T_c61e7_row5_col6\" class=\"data row5 col6\" >777.943043</td>\n",
       "      <td id=\"T_c61e7_row5_col7\" class=\"data row5 col7\" >-0.017269</td>\n",
       "      <td id=\"T_c61e7_row5_col8\" class=\"data row5 col8\" >0.029686</td>\n",
       "      <td id=\"T_c61e7_row5_col9\" class=\"data row5 col9\" >-0.012418</td>\n",
       "      <td id=\"T_c61e7_row5_col10\" class=\"data row5 col10\" >Line A Line B Line C to Ground Fault</td>\n",
       "    </tr>\n",
       "    <tr>\n",
       "      <th id=\"T_c61e7_level0_row6\" class=\"row_heading level0 row6\" >6699</th>\n",
       "      <td id=\"T_c61e7_row6_col0\" class=\"data row6 col0\" >0</td>\n",
       "      <td id=\"T_c61e7_row6_col1\" class=\"data row6 col1\" >0</td>\n",
       "      <td id=\"T_c61e7_row6_col2\" class=\"data row6 col2\" >0</td>\n",
       "      <td id=\"T_c61e7_row6_col3\" class=\"data row6 col3\" >0</td>\n",
       "      <td id=\"T_c61e7_row6_col4\" class=\"data row6 col4\" >-39.116824</td>\n",
       "      <td id=\"T_c61e7_row6_col5\" class=\"data row6 col5\" >0.852855</td>\n",
       "      <td id=\"T_c61e7_row6_col6\" class=\"data row6 col6\" >35.057951</td>\n",
       "      <td id=\"T_c61e7_row6_col7\" class=\"data row6 col7\" >0.442549</td>\n",
       "      <td id=\"T_c61e7_row6_col8\" class=\"data row6 col8\" >-0.553594</td>\n",
       "      <td id=\"T_c61e7_row6_col9\" class=\"data row6 col9\" >0.111045</td>\n",
       "      <td id=\"T_c61e7_row6_col10\" class=\"data row6 col10\" >NO Fault</td>\n",
       "    </tr>\n",
       "    <tr>\n",
       "      <th id=\"T_c61e7_level0_row7\" class=\"row_heading level0 row7\" >4721</th>\n",
       "      <td id=\"T_c61e7_row7_col0\" class=\"data row7 col0\" >1</td>\n",
       "      <td id=\"T_c61e7_row7_col1\" class=\"data row7 col1\" >1</td>\n",
       "      <td id=\"T_c61e7_row7_col2\" class=\"data row7 col2\" >1</td>\n",
       "      <td id=\"T_c61e7_row7_col3\" class=\"data row7 col3\" >1</td>\n",
       "      <td id=\"T_c61e7_row7_col4\" class=\"data row7 col4\" >-289.042009</td>\n",
       "      <td id=\"T_c61e7_row7_col5\" class=\"data row7 col5\" >867.285512</td>\n",
       "      <td id=\"T_c61e7_row7_col6\" class=\"data row7 col6\" >-578.245384</td>\n",
       "      <td id=\"T_c61e7_row7_col7\" class=\"data row7 col7\" >0.029003</td>\n",
       "      <td id=\"T_c61e7_row7_col8\" class=\"data row7 col8\" >0.012243</td>\n",
       "      <td id=\"T_c61e7_row7_col9\" class=\"data row7 col9\" >-0.041246</td>\n",
       "      <td id=\"T_c61e7_row7_col10\" class=\"data row7 col10\" >Line A Line B Line C to Ground Fault</td>\n",
       "    </tr>\n",
       "    <tr>\n",
       "      <th id=\"T_c61e7_level0_row8\" class=\"row_heading level0 row8\" >5059</th>\n",
       "      <td id=\"T_c61e7_row8_col0\" class=\"data row8 col0\" >1</td>\n",
       "      <td id=\"T_c61e7_row8_col1\" class=\"data row8 col1\" >1</td>\n",
       "      <td id=\"T_c61e7_row8_col2\" class=\"data row8 col2\" >1</td>\n",
       "      <td id=\"T_c61e7_row8_col3\" class=\"data row8 col3\" >1</td>\n",
       "      <td id=\"T_c61e7_row8_col4\" class=\"data row8 col4\" >528.052123</td>\n",
       "      <td id=\"T_c61e7_row8_col5\" class=\"data row8 col5\" >349.294749</td>\n",
       "      <td id=\"T_c61e7_row8_col6\" class=\"data row8 col6\" >-877.349136</td>\n",
       "      <td id=\"T_c61e7_row8_col7\" class=\"data row8 col7\" >0.041800</td>\n",
       "      <td id=\"T_c61e7_row8_col8\" class=\"data row8 col8\" >-0.026640</td>\n",
       "      <td id=\"T_c61e7_row8_col9\" class=\"data row8 col9\" >-0.015160</td>\n",
       "      <td id=\"T_c61e7_row8_col10\" class=\"data row8 col10\" >Line A Line B Line C to Ground Fault</td>\n",
       "    </tr>\n",
       "    <tr>\n",
       "      <th id=\"T_c61e7_level0_row9\" class=\"row_heading level0 row9\" >2075</th>\n",
       "      <td id=\"T_c61e7_row9_col0\" class=\"data row9 col0\" >1</td>\n",
       "      <td id=\"T_c61e7_row9_col1\" class=\"data row9 col1\" >0</td>\n",
       "      <td id=\"T_c61e7_row9_col2\" class=\"data row9 col2\" >1</td>\n",
       "      <td id=\"T_c61e7_row9_col3\" class=\"data row9 col3\" >1</td>\n",
       "      <td id=\"T_c61e7_row9_col4\" class=\"data row9 col4\" >125.718907</td>\n",
       "      <td id=\"T_c61e7_row9_col5\" class=\"data row9 col5\" >-822.893663</td>\n",
       "      <td id=\"T_c61e7_row9_col6\" class=\"data row9 col6\" >-53.680894</td>\n",
       "      <td id=\"T_c61e7_row9_col7\" class=\"data row9 col7\" >-0.034293</td>\n",
       "      <td id=\"T_c61e7_row9_col8\" class=\"data row9 col8\" >0.190112</td>\n",
       "      <td id=\"T_c61e7_row9_col9\" class=\"data row9 col9\" >-0.155819</td>\n",
       "      <td id=\"T_c61e7_row9_col10\" class=\"data row9 col10\" >Line A Line B to Ground Fault</td>\n",
       "    </tr>\n",
       "  </tbody>\n",
       "</table>\n"
      ],
      "text/plain": [
       "<pandas.io.formats.style.Styler at 0x7d456fbd9650>"
      ]
     },
     "execution_count": 14,
     "metadata": {},
     "output_type": "execute_result"
    }
   ],
   "source": [
    "df_class.sample(10).style.set_properties(**{'background-color': 'blue',\n",
    "                           'color': 'white',\n",
    "                           'border-color': 'darkblack'})"
   ]
  },
  {
   "cell_type": "code",
   "execution_count": 15,
   "id": "394a91a6",
   "metadata": {
    "execution": {
     "iopub.execute_input": "2025-06-01T14:50:37.976187Z",
     "iopub.status.busy": "2025-06-01T14:50:37.975446Z",
     "iopub.status.idle": "2025-06-01T14:50:38.128522Z",
     "shell.execute_reply": "2025-06-01T14:50:38.127321Z"
    },
    "papermill": {
     "duration": 0.184734,
     "end_time": "2025-06-01T14:50:38.130255",
     "exception": true,
     "start_time": "2025-06-01T14:50:37.945521",
     "status": "failed"
    },
    "tags": []
   },
   "outputs": [
    {
     "ename": "AttributeError",
     "evalue": "'Styler' object has no attribute 'set_precision'",
     "output_type": "error",
     "traceback": [
      "\u001b[0;31m---------------------------------------------------------------------------\u001b[0m",
      "\u001b[0;31mAttributeError\u001b[0m                            Traceback (most recent call last)",
      "\u001b[0;32m/tmp/ipykernel_13/3641495062.py\u001b[0m in \u001b[0;36m<cell line: 0>\u001b[0;34m()\u001b[0m\n\u001b[0;32m----> 1\u001b[0;31m \u001b[0mdf_class\u001b[0m\u001b[0;34m.\u001b[0m\u001b[0mdescribe\u001b[0m\u001b[0;34m(\u001b[0m\u001b[0;34m)\u001b[0m\u001b[0;34m.\u001b[0m\u001b[0mstyle\u001b[0m\u001b[0;34m.\u001b[0m\u001b[0mbackground_gradient\u001b[0m\u001b[0;34m(\u001b[0m\u001b[0mcmap\u001b[0m\u001b[0;34m=\u001b[0m\u001b[0;34m'rainbow'\u001b[0m\u001b[0;34m)\u001b[0m\u001b[0;34m.\u001b[0m\u001b[0mset_precision\u001b[0m\u001b[0;34m(\u001b[0m\u001b[0;36m3\u001b[0m\u001b[0;34m)\u001b[0m\u001b[0;34m\u001b[0m\u001b[0;34m\u001b[0m\u001b[0m\n\u001b[0m",
      "\u001b[0;31mAttributeError\u001b[0m: 'Styler' object has no attribute 'set_precision'"
     ]
    }
   ],
   "source": [
    "df_class.describe().style.background_gradient(cmap='rainbow').set_precision(3)"
   ]
  },
  {
   "cell_type": "code",
   "execution_count": null,
   "id": "224e6f9b",
   "metadata": {
    "execution": {
     "iopub.execute_input": "2025-06-01T14:40:55.735605Z",
     "iopub.status.busy": "2025-06-01T14:40:55.735225Z",
     "iopub.status.idle": "2025-06-01T14:40:55.743870Z",
     "shell.execute_reply": "2025-06-01T14:40:55.743022Z",
     "shell.execute_reply.started": "2025-06-01T14:40:55.735578Z"
    },
    "papermill": {
     "duration": null,
     "end_time": null,
     "exception": null,
     "start_time": null,
     "status": "pending"
    },
    "tags": []
   },
   "outputs": [],
   "source": [
    "df_class['Fault_Type'].value_counts(ascending=False)"
   ]
  },
  {
   "cell_type": "markdown",
   "id": "970b87a3",
   "metadata": {
    "papermill": {
     "duration": null,
     "end_time": null,
     "exception": null,
     "start_time": null,
     "status": "pending"
    },
    "tags": []
   },
   "source": [
    "<span style=\"background-color:red;\n",
    "             color:white;\n",
    "             font-size:17px;\n",
    "             text-align:center;\n",
    "             border-radius:30px 80px;\n",
    "             font-weight:bold;\n",
    "             border:2px solid red;\n",
    "             padding:0px 20px;\">Number of faults in the system according to their Fault_Type\n",
    "</span>"
   ]
  },
  {
   "cell_type": "code",
   "execution_count": null,
   "id": "056e05d7",
   "metadata": {
    "execution": {
     "iopub.execute_input": "2025-06-01T14:41:01.706386Z",
     "iopub.status.busy": "2025-06-01T14:41:01.706067Z",
     "iopub.status.idle": "2025-06-01T14:41:02.529269Z",
     "shell.execute_reply": "2025-06-01T14:41:02.528368Z",
     "shell.execute_reply.started": "2025-06-01T14:41:01.706361Z"
    },
    "papermill": {
     "duration": null,
     "end_time": null,
     "exception": null,
     "start_time": null,
     "status": "pending"
    },
    "tags": []
   },
   "outputs": [],
   "source": [
    "ax = plt.figure(figsize = (15,16))\n",
    "ax = plt.subplot(2,1,1)\n",
    "ax = sns.countplot(x='Fault_Type', data=df_class)\n",
    "ax.bar_label(ax.containers[0])\n",
    "plt.title(\"Fault Type\", fontsize=20,color = 'Brown',font='Lucida Calligraphy',pad=20)\n",
    "plt.xticks(rotation=65)\n",
    "plt.tight_layout()\n",
    "\n",
    "ax =plt.subplot(2,1,2)\n",
    "ax=df_class['Fault_Type'].value_counts().plot.pie(explode=[0.1, 0.1,0.1,0.1, 0.1,0.1],autopct='%1.2f%%',shadow=True);\n",
    "plt.tight_layout()\n",
    "plt.axis('off');"
   ]
  },
  {
   "cell_type": "markdown",
   "id": "5f5b8a62",
   "metadata": {
    "papermill": {
     "duration": null,
     "end_time": null,
     "exception": null,
     "start_time": null,
     "status": "pending"
    },
    "tags": []
   },
   "source": [
    "<center> <img src=\"https://4.bp.blogspot.com/-uVv83087Yow/WkyGq2knzCI/AAAAAAAAEP4/cOHQ87sGhyQeR79lVyJRovAF4HEeT6bQACLcBGAs/s1600/world-find-share-on-giphy.gif.gif\" width=\"1000\" height=\"200\"> \n",
    "</center>\n"
   ]
  },
  {
   "cell_type": "markdown",
   "id": "cca0aaed",
   "metadata": {
    "papermill": {
     "duration": null,
     "end_time": null,
     "exception": null,
     "start_time": null,
     "status": "pending"
    },
    "tags": []
   },
   "source": [
    "<center> <img src=\"http://empossible.net/wp-content/uploads/2018/03/TLStandingWave_Z1GTZ2_logo.gif\" width=\"1000\" height=\"200\"> </center>"
   ]
  },
  {
   "cell_type": "code",
   "execution_count": null,
   "id": "f41b1fe3",
   "metadata": {
    "execution": {
     "iopub.execute_input": "2025-06-01T14:41:10.814120Z",
     "iopub.status.busy": "2025-06-01T14:41:10.813834Z",
     "iopub.status.idle": "2025-06-01T14:41:11.156138Z",
     "shell.execute_reply": "2025-06-01T14:41:11.154529Z",
     "shell.execute_reply.started": "2025-06-01T14:41:10.814099Z"
    },
    "papermill": {
     "duration": null,
     "end_time": null,
     "exception": null,
     "start_time": null,
     "status": "pending"
    },
    "tags": []
   },
   "outputs": [],
   "source": [
    "plt.figure(figsize = (10,4))\n",
    "plt.plot(df_class[\"Ia\"])\n",
    "plt.plot(df_class[\"Ib\"])\n",
    "plt.plot(df_class[\"Ic\"]);"
   ]
  },
  {
   "cell_type": "code",
   "execution_count": null,
   "id": "b44e7746",
   "metadata": {
    "execution": {
     "iopub.execute_input": "2025-06-01T14:41:16.384322Z",
     "iopub.status.busy": "2025-06-01T14:41:16.384016Z",
     "iopub.status.idle": "2025-06-01T14:41:16.713100Z",
     "shell.execute_reply": "2025-06-01T14:41:16.712090Z",
     "shell.execute_reply.started": "2025-06-01T14:41:16.384296Z"
    },
    "papermill": {
     "duration": null,
     "end_time": null,
     "exception": null,
     "start_time": null,
     "status": "pending"
    },
    "tags": []
   },
   "outputs": [],
   "source": [
    "plt.figure(figsize = (10,4))\n",
    "plt.plot(df_class[\"Va\"])\n",
    "plt.plot(df_class[\"Vb\"])\n",
    "plt.plot(df_class[\"Vc\"]);"
   ]
  },
  {
   "cell_type": "markdown",
   "id": "ffa59f97",
   "metadata": {
    "papermill": {
     "duration": null,
     "end_time": null,
     "exception": null,
     "start_time": null,
     "status": "pending"
    },
    "tags": []
   },
   "source": [
    "<div style=\"color:white;\n",
    "       display:fill;\n",
    "       border-radius:5px;\n",
    "       background-color:#AC0000;\n",
    "       font-size:110%;\n",
    "       font-family:Nexa;\n",
    "       letter-spacing:0.5px\">\n",
    "    <p style=\"padding: 10px;\n",
    "          color:white;\">\n",
    "Voltage or Current graph, where there is large fluctuation in the graph, there faults have occurred\n",
    "    </p>\n",
    "</div>"
   ]
  },
  {
   "cell_type": "code",
   "execution_count": null,
   "id": "eb27eece",
   "metadata": {
    "execution": {
     "iopub.execute_input": "2025-06-01T14:41:22.795686Z",
     "iopub.status.busy": "2025-06-01T14:41:22.795284Z",
     "iopub.status.idle": "2025-06-01T14:41:24.312297Z",
     "shell.execute_reply": "2025-06-01T14:41:24.311245Z",
     "shell.execute_reply.started": "2025-06-01T14:41:22.795657Z"
    },
    "papermill": {
     "duration": null,
     "end_time": null,
     "exception": null,
     "start_time": null,
     "status": "pending"
    },
    "tags": []
   },
   "outputs": [],
   "source": [
    "plt.figure(figsize= (15,10))\n",
    "#plt.suptitle(\"Distributions of Different Features\", fontsize = 20)\n",
    "#Histograms\n",
    "plt.subplot(3,3,1)\n",
    "sns.distplot(df_class['Va'], rug = True, kde = False)\n",
    "plt.xlabel('Voltage in Per Unit(pu)', fontsize = 12)\n",
    "plt.title('Distribution of Voltage',fontsize = 15)\n",
    "\n",
    "plt.subplot(3,3,2)\n",
    "sns.distplot(df_class['Ia'], color= 'green',rug = True, kde = False)\n",
    "plt.title('Distribution of Load of Line',fontsize = 15)\n",
    "plt.xlabel('Load on line in Amperes', fontsize = 12)\n",
    "\n",
    "\n",
    "#Kde Plots\n",
    "plt.subplot(3,3,4)\n",
    "sns.kdeplot(df_class['Va'], shade = True)\n",
    "plt.xlabel('Voltage in Per Unit(pu)', fontsize = 12)\n",
    "plt.title('Distribution of Voltage',fontsize = 15)\n",
    "\n",
    "plt.subplot(3,3,5)\n",
    "sns.kdeplot(df_class['Ia'], shade = True, color = 'g')\n",
    "plt.title('Distribution of Load of Line',fontsize = 15)\n",
    "plt.xlabel('Load on line in Amperes', fontsize = 12)\n",
    "\n",
    "\n",
    "#Box Plots\n",
    "plt.subplot(3,3,7)\n",
    "sns.boxplot(x = df_class['Va'], orient = 'v',color= 'b', boxprops=dict(alpha=.5))\n",
    "plt.subplot(3,3,8)\n",
    "sns.boxplot(x = df_class['Ia'], orient = 'v', color= 'g', boxprops=dict(alpha=.5))\n",
    "\n",
    "\n",
    "plt.tight_layout()\n",
    "plt.show()"
   ]
  },
  {
   "cell_type": "markdown",
   "id": "ac8bee83",
   "metadata": {
    "papermill": {
     "duration": null,
     "end_time": null,
     "exception": null,
     "start_time": null,
     "status": "pending"
    },
    "tags": []
   },
   "source": [
    "<h1 style=\"background-color:black\n",
    ";font-family:newtimeroman;font-size:300%;text-align:center;border-radius: 150px 150px; color:#40E0D0\"> Separating Faults into different Categories</h1><a id=0></a>"
   ]
  },
  {
   "cell_type": "markdown",
   "id": "b3ac478e",
   "metadata": {
    "papermill": {
     "duration": null,
     "end_time": null,
     "exception": null,
     "start_time": null,
     "status": "pending"
    },
    "tags": []
   },
   "source": [
    "<span style=\"background-color:red;\n",
    "             color:white;\n",
    "             font-size:25px;\n",
    "             text-align:center;\n",
    "             border-radius:50px 80px;\n",
    "             font-weight:bold;\n",
    "             border:2px solid red;\n",
    "             padding:0px 20px;\">1. No Fault (Healthy System)\n",
    "</span>"
   ]
  },
  {
   "cell_type": "code",
   "execution_count": null,
   "id": "56d5acdf",
   "metadata": {
    "execution": {
     "iopub.execute_input": "2025-06-01T14:41:31.637757Z",
     "iopub.status.busy": "2025-06-01T14:41:31.637028Z",
     "iopub.status.idle": "2025-06-01T14:41:31.654456Z",
     "shell.execute_reply": "2025-06-01T14:41:31.653433Z",
     "shell.execute_reply.started": "2025-06-01T14:41:31.637722Z"
    },
    "papermill": {
     "duration": null,
     "end_time": null,
     "exception": null,
     "start_time": null,
     "status": "pending"
    },
    "tags": []
   },
   "outputs": [],
   "source": [
    "No_Fault = df_class[df_class['Fault_Type'] == 'NO Fault' ]\n",
    "No_Fault.sample(5).style.set_properties(**{'background-color': 'blue',\n",
    "                           'color': 'white',\n",
    "                           'border-color': 'darkblack'})"
   ]
  },
  {
   "cell_type": "code",
   "execution_count": null,
   "id": "1bd8d8a4",
   "metadata": {
    "execution": {
     "iopub.execute_input": "2025-06-01T14:41:39.095159Z",
     "iopub.status.busy": "2025-06-01T14:41:39.094833Z",
     "iopub.status.idle": "2025-06-01T14:41:39.387640Z",
     "shell.execute_reply": "2025-06-01T14:41:39.386427Z",
     "shell.execute_reply.started": "2025-06-01T14:41:39.095134Z"
    },
    "papermill": {
     "duration": null,
     "end_time": null,
     "exception": null,
     "start_time": null,
     "status": "pending"
    },
    "tags": []
   },
   "outputs": [],
   "source": [
    "ax = plt.figure(figsize = (18,3))\n",
    "ax = plt.plot(No_Fault[\"Ia\"],'r')\n",
    "ax = plt.plot(No_Fault[\"Ib\"],'b')\n",
    "ax = plt.plot(No_Fault[\"Ic\"],'g');"
   ]
  },
  {
   "cell_type": "code",
   "execution_count": null,
   "id": "877887c5",
   "metadata": {
    "execution": {
     "iopub.execute_input": "2025-06-01T14:41:43.566737Z",
     "iopub.status.busy": "2025-06-01T14:41:43.566381Z",
     "iopub.status.idle": "2025-06-01T14:41:43.872110Z",
     "shell.execute_reply": "2025-06-01T14:41:43.871079Z",
     "shell.execute_reply.started": "2025-06-01T14:41:43.566710Z"
    },
    "papermill": {
     "duration": null,
     "end_time": null,
     "exception": null,
     "start_time": null,
     "status": "pending"
    },
    "tags": []
   },
   "outputs": [],
   "source": [
    "ax = plt.figure(figsize = (18,3))\n",
    "ax = plt.plot(No_Fault[\"Va\"],'r')\n",
    "ax = plt.plot(No_Fault[\"Vb\"],'b')\n",
    "ax = plt.plot(No_Fault[\"Vc\"],'g');"
   ]
  },
  {
   "cell_type": "markdown",
   "id": "fe1e721d",
   "metadata": {
    "papermill": {
     "duration": null,
     "end_time": null,
     "exception": null,
     "start_time": null,
     "status": "pending"
    },
    "tags": []
   },
   "source": [
    "<div style=\"color:white;\n",
    "       display:fill;\n",
    "       border-radius:5px;\n",
    "       background-color:#AC0000;\n",
    "       font-size:110%;\n",
    "       font-family:Nexa;\n",
    "       letter-spacing:0.5px\">\n",
    "    <p style=\"padding: 10px;\n",
    "          color:white;\">\n",
    "In a normal (No_Fault) condition Voltage or Current graph, is symmetrical and sinusoidal in nature with current and voltage 120 degree in phase shift and maximum current is approximately +100 to -100 Amperes and voltage +0.5 pu to -0.5pu\n",
    "    </p>\n",
    "</div>"
   ]
  },
  {
   "cell_type": "markdown",
   "id": "27b6713b",
   "metadata": {
    "papermill": {
     "duration": null,
     "end_time": null,
     "exception": null,
     "start_time": null,
     "status": "pending"
    },
    "tags": []
   },
   "source": [
    "<center> <img src=\"https://circuitglobe.com/wp-content/uploads/2015/10/resistive-circuit-waveform-compressor2.jpg\" width=\"600\" height=\"200\"> </center>"
   ]
  },
  {
   "cell_type": "code",
   "execution_count": null,
   "id": "d4080e53",
   "metadata": {
    "execution": {
     "iopub.execute_input": "2025-06-01T14:41:51.757679Z",
     "iopub.status.busy": "2025-06-01T14:41:51.757309Z",
     "iopub.status.idle": "2025-06-01T14:41:52.842944Z",
     "shell.execute_reply": "2025-06-01T14:41:52.841920Z",
     "shell.execute_reply.started": "2025-06-01T14:41:51.757652Z"
    },
    "papermill": {
     "duration": null,
     "end_time": null,
     "exception": null,
     "start_time": null,
     "status": "pending"
    },
    "tags": []
   },
   "outputs": [],
   "source": [
    "plt.figure(figsize= (15,10))\n",
    "#plt.suptitle(\"Distributions of Different Features\", fontsize = 20)\n",
    "#Histograms\n",
    "plt.subplot(3,3,1)\n",
    "sns.distplot(No_Fault['Va'], rug = True, kde = False)\n",
    "plt.xlabel('Voltage in Per Unit(pu)', fontsize = 12)\n",
    "plt.title('Distribution of Voltage',fontsize = 15)\n",
    "\n",
    "plt.subplot(3,3,2)\n",
    "sns.distplot(No_Fault['Ia'], color= 'green',rug = True, kde = False)\n",
    "plt.title('Distribution of Load of Line',fontsize = 15)\n",
    "plt.xlabel('Load on line in Amperes', fontsize = 12)\n",
    "\n",
    "\n",
    "#Kde Plots\n",
    "plt.subplot(3,3,4)\n",
    "sns.kdeplot(No_Fault['Va'], shade = True)\n",
    "plt.xlabel('Voltage in Per Unit(pu)', fontsize = 12)\n",
    "plt.title('Distribution of Voltage',fontsize = 15)\n",
    "\n",
    "plt.subplot(3,3,5)\n",
    "sns.kdeplot(No_Fault['Ia'], shade = True, color = 'g')\n",
    "plt.title('Distribution of Load of Line',fontsize = 15)\n",
    "plt.xlabel('Load on line in Amperes', fontsize = 12)\n",
    "\n",
    "\n",
    "#Box Plots\n",
    "plt.subplot(3,3,7)\n",
    "sns.boxplot(x = No_Fault['Va'], orient = 'v',color= 'b', boxprops=dict(alpha=.5))\n",
    "plt.subplot(3,3,8)\n",
    "sns.boxplot(x = No_Fault['Ia'], orient = 'v', color= 'g', boxprops=dict(alpha=.5))\n",
    "\n",
    "\n",
    "plt.tight_layout()\n",
    "plt.show()"
   ]
  },
  {
   "cell_type": "markdown",
   "id": "2d9162d8",
   "metadata": {
    "papermill": {
     "duration": null,
     "end_time": null,
     "exception": null,
     "start_time": null,
     "status": "pending"
    },
    "tags": []
   },
   "source": [
    "<span style=\"background-color:red;\n",
    "             color:white;\n",
    "             font-size:25px;\n",
    "             text-align:center;\n",
    "             border-radius:50px 80px;\n",
    "             font-weight:bold;\n",
    "             border:2px solid red;\n",
    "             padding:0px 20px;\">2. Faulty System with Line A to Ground Fault\n",
    "</span>"
   ]
  },
  {
   "cell_type": "code",
   "execution_count": null,
   "id": "846d8701",
   "metadata": {
    "execution": {
     "iopub.execute_input": "2025-06-01T14:41:57.377210Z",
     "iopub.status.busy": "2025-06-01T14:41:57.376939Z",
     "iopub.status.idle": "2025-06-01T14:41:57.391135Z",
     "shell.execute_reply": "2025-06-01T14:41:57.390362Z",
     "shell.execute_reply.started": "2025-06-01T14:41:57.377191Z"
    },
    "papermill": {
     "duration": null,
     "end_time": null,
     "exception": null,
     "start_time": null,
     "status": "pending"
    },
    "tags": []
   },
   "outputs": [],
   "source": [
    "Line_AG_Fault = df_class[df_class['Fault_Type'] == 'Line A to Ground Fault' ]\n",
    "Line_AG_Fault.head().style.set_properties(**{'background-color': 'blue',\n",
    "                           'color': 'white',\n",
    "                           'border-color': 'darkblack'})"
   ]
  },
  {
   "cell_type": "code",
   "execution_count": null,
   "id": "592ed659",
   "metadata": {
    "execution": {
     "iopub.execute_input": "2025-06-01T14:42:00.687038Z",
     "iopub.status.busy": "2025-06-01T14:42:00.686727Z",
     "iopub.status.idle": "2025-06-01T14:42:01.008575Z",
     "shell.execute_reply": "2025-06-01T14:42:01.007242Z",
     "shell.execute_reply.started": "2025-06-01T14:42:00.687014Z"
    },
    "papermill": {
     "duration": null,
     "end_time": null,
     "exception": null,
     "start_time": null,
     "status": "pending"
    },
    "tags": []
   },
   "outputs": [],
   "source": [
    "ax = plt.figure(figsize = (18,3))\n",
    "ax = plt.plot(Line_AG_Fault[\"Ia\"],'r')\n",
    "ax = plt.plot(Line_AG_Fault[\"Ib\"],'b')\n",
    "ax = plt.plot(Line_AG_Fault[\"Ic\"],'g');"
   ]
  },
  {
   "cell_type": "code",
   "execution_count": null,
   "id": "8931ffb5",
   "metadata": {
    "execution": {
     "iopub.execute_input": "2025-06-01T14:42:04.838149Z",
     "iopub.status.busy": "2025-06-01T14:42:04.837378Z",
     "iopub.status.idle": "2025-06-01T14:42:05.165811Z",
     "shell.execute_reply": "2025-06-01T14:42:05.164493Z",
     "shell.execute_reply.started": "2025-06-01T14:42:04.838118Z"
    },
    "papermill": {
     "duration": null,
     "end_time": null,
     "exception": null,
     "start_time": null,
     "status": "pending"
    },
    "tags": []
   },
   "outputs": [],
   "source": [
    "ax = plt.figure(figsize = (18,3))\n",
    "ax = plt.plot(Line_AG_Fault[\"Va\"],'r')\n",
    "ax = plt.plot(Line_AG_Fault[\"Vb\"],'b')\n",
    "ax = plt.plot(Line_AG_Fault[\"Vc\"],'g');"
   ]
  },
  {
   "cell_type": "markdown",
   "id": "6b3afcb1",
   "metadata": {
    "papermill": {
     "duration": null,
     "end_time": null,
     "exception": null,
     "start_time": null,
     "status": "pending"
    },
    "tags": []
   },
   "source": [
    "<div style=\"color:white;\n",
    "       display:fill;\n",
    "       border-radius:5px;\n",
    "       background-color:#AC0000;\n",
    "       font-size:110%;\n",
    "       font-family:Nexa;\n",
    "       letter-spacing:0.5px\">\n",
    "    <p style=\"padding: 10px;\n",
    "          color:white;\">\n",
    "At a time of Line A to grounf fault the current in line A increases to 10 fold approximately 1000 Ampears form normal 100 Ampears and voltage reduced.\n",
    "    </p>\n",
    "</div>"
   ]
  },
  {
   "cell_type": "markdown",
   "id": "08c7d9e2",
   "metadata": {
    "papermill": {
     "duration": null,
     "end_time": null,
     "exception": null,
     "start_time": null,
     "status": "pending"
    },
    "tags": []
   },
   "source": [
    "<span style=\"background-color:red;\n",
    "             color:white;\n",
    "             font-size:25px;\n",
    "             text-align:center;\n",
    "             border-radius:50px 80px;\n",
    "             font-weight:bold;\n",
    "             border:2px solid red;\n",
    "             padding:0px 20px;\">3. Faulty System with Line A ,Line B to Ground Fault \n",
    "</span>"
   ]
  },
  {
   "cell_type": "code",
   "execution_count": null,
   "id": "46fcc059",
   "metadata": {
    "execution": {
     "iopub.execute_input": "2025-06-01T14:42:12.234939Z",
     "iopub.status.busy": "2025-06-01T14:42:12.234648Z",
     "iopub.status.idle": "2025-06-01T14:42:12.249692Z",
     "shell.execute_reply": "2025-06-01T14:42:12.248670Z",
     "shell.execute_reply.started": "2025-06-01T14:42:12.234917Z"
    },
    "papermill": {
     "duration": null,
     "end_time": null,
     "exception": null,
     "start_time": null,
     "status": "pending"
    },
    "tags": []
   },
   "outputs": [],
   "source": [
    "Line_ABG_Fault = df_class[df_class['Fault_Type'] == 'Line A Line B to Ground Fault' ]\n",
    "Line_ABG_Fault.head().style.set_properties(**{'background-color': 'blue',\n",
    "                           'color': 'white',\n",
    "                           'border-color': 'darkblack'})"
   ]
  },
  {
   "cell_type": "code",
   "execution_count": null,
   "id": "a09e1752",
   "metadata": {
    "execution": {
     "iopub.execute_input": "2025-06-01T14:42:15.347110Z",
     "iopub.status.busy": "2025-06-01T14:42:15.346817Z",
     "iopub.status.idle": "2025-06-01T14:42:15.672153Z",
     "shell.execute_reply": "2025-06-01T14:42:15.671154Z",
     "shell.execute_reply.started": "2025-06-01T14:42:15.347089Z"
    },
    "papermill": {
     "duration": null,
     "end_time": null,
     "exception": null,
     "start_time": null,
     "status": "pending"
    },
    "tags": []
   },
   "outputs": [],
   "source": [
    "ax = plt.figure(figsize = (18,3))\n",
    "ax = plt.plot(Line_ABG_Fault[\"Ia\"],'r')\n",
    "ax = plt.plot(Line_ABG_Fault[\"Ib\"],'b')\n",
    "ax = plt.plot(Line_ABG_Fault[\"Ic\"],'g');"
   ]
  },
  {
   "cell_type": "code",
   "execution_count": null,
   "id": "898d245f",
   "metadata": {
    "execution": {
     "iopub.execute_input": "2025-06-01T14:42:20.406544Z",
     "iopub.status.busy": "2025-06-01T14:42:20.406127Z",
     "iopub.status.idle": "2025-06-01T14:42:20.727650Z",
     "shell.execute_reply": "2025-06-01T14:42:20.726568Z",
     "shell.execute_reply.started": "2025-06-01T14:42:20.406481Z"
    },
    "papermill": {
     "duration": null,
     "end_time": null,
     "exception": null,
     "start_time": null,
     "status": "pending"
    },
    "tags": []
   },
   "outputs": [],
   "source": [
    "ax = plt.figure(figsize = (18,3))\n",
    "ax = plt.plot(Line_ABG_Fault[\"Va\"],'r')\n",
    "ax = plt.plot(Line_ABG_Fault[\"Vb\"],'b')\n",
    "ax = plt.plot(Line_ABG_Fault[\"Vc\"],'g');"
   ]
  },
  {
   "cell_type": "markdown",
   "id": "233e03e2",
   "metadata": {
    "papermill": {
     "duration": null,
     "end_time": null,
     "exception": null,
     "start_time": null,
     "status": "pending"
    },
    "tags": []
   },
   "source": [
    "<span style=\"background-color:red;\n",
    "             color:white;\n",
    "             font-size:25px;\n",
    "             text-align:center;\n",
    "             border-radius:50px 80px;\n",
    "             font-weight:bold;\n",
    "             border:2px solid red;\n",
    "             padding:0px 20px;\">4. Faulty System with Line B to Line C\n",
    "</span>"
   ]
  },
  {
   "cell_type": "code",
   "execution_count": null,
   "id": "d4eb4edd",
   "metadata": {
    "execution": {
     "iopub.execute_input": "2025-06-01T14:42:24.746064Z",
     "iopub.status.busy": "2025-06-01T14:42:24.745771Z",
     "iopub.status.idle": "2025-06-01T14:42:24.762689Z",
     "shell.execute_reply": "2025-06-01T14:42:24.761259Z",
     "shell.execute_reply.started": "2025-06-01T14:42:24.746043Z"
    },
    "papermill": {
     "duration": null,
     "end_time": null,
     "exception": null,
     "start_time": null,
     "status": "pending"
    },
    "tags": []
   },
   "outputs": [],
   "source": [
    "Line_BC_Fault = df_class[df_class['Fault_Type'] == 'Line B to Line C Fault' ]\n",
    "Line_BC_Fault.head().style.set_properties(**{'background-color': 'blue',\n",
    "                           'color': 'white',\n",
    "                           'border-color': 'darkblack'})"
   ]
  },
  {
   "cell_type": "code",
   "execution_count": null,
   "id": "b08ba448",
   "metadata": {
    "execution": {
     "iopub.execute_input": "2025-06-01T14:42:28.224708Z",
     "iopub.status.busy": "2025-06-01T14:42:28.224345Z",
     "iopub.status.idle": "2025-06-01T14:42:28.524659Z",
     "shell.execute_reply": "2025-06-01T14:42:28.523681Z",
     "shell.execute_reply.started": "2025-06-01T14:42:28.224682Z"
    },
    "papermill": {
     "duration": null,
     "end_time": null,
     "exception": null,
     "start_time": null,
     "status": "pending"
    },
    "tags": []
   },
   "outputs": [],
   "source": [
    "ax = plt.figure(figsize = (18,3))\n",
    "ax = plt.plot(Line_BC_Fault[\"Ia\"],'r')\n",
    "ax = plt.plot(Line_BC_Fault[\"Ib\"],'b')\n",
    "ax = plt.plot(Line_BC_Fault[\"Ic\"],'g');"
   ]
  },
  {
   "cell_type": "code",
   "execution_count": null,
   "id": "2d3b7821",
   "metadata": {
    "execution": {
     "iopub.execute_input": "2025-06-01T14:42:31.694175Z",
     "iopub.status.busy": "2025-06-01T14:42:31.693850Z",
     "iopub.status.idle": "2025-06-01T14:42:32.018571Z",
     "shell.execute_reply": "2025-06-01T14:42:32.017538Z",
     "shell.execute_reply.started": "2025-06-01T14:42:31.694149Z"
    },
    "papermill": {
     "duration": null,
     "end_time": null,
     "exception": null,
     "start_time": null,
     "status": "pending"
    },
    "tags": []
   },
   "outputs": [],
   "source": [
    "ax = plt.figure(figsize = (18,3))\n",
    "ax = plt.plot(Line_BC_Fault[\"Va\"],'r')\n",
    "ax = plt.plot(Line_BC_Fault[\"Vb\"],'b')\n",
    "ax = plt.plot(Line_BC_Fault[\"Vc\"],'g');"
   ]
  },
  {
   "cell_type": "markdown",
   "id": "3fb5bff7",
   "metadata": {
    "papermill": {
     "duration": null,
     "end_time": null,
     "exception": null,
     "start_time": null,
     "status": "pending"
    },
    "tags": []
   },
   "source": [
    "<span style=\"background-color:red;\n",
    "             color:white;\n",
    "             font-size:25px;\n",
    "             text-align:center;\n",
    "             border-radius:50px 80px;\n",
    "             font-weight:bold;\n",
    "             border:2px solid red;\n",
    "             padding:0px 20px;\">5. Faulty System with Line A - Line B - Line C\n",
    "</span>"
   ]
  },
  {
   "cell_type": "code",
   "execution_count": null,
   "id": "69018c32",
   "metadata": {
    "execution": {
     "iopub.execute_input": "2025-06-01T14:42:35.797976Z",
     "iopub.status.busy": "2025-06-01T14:42:35.797560Z",
     "iopub.status.idle": "2025-06-01T14:42:35.814972Z",
     "shell.execute_reply": "2025-06-01T14:42:35.813941Z",
     "shell.execute_reply.started": "2025-06-01T14:42:35.797942Z"
    },
    "papermill": {
     "duration": null,
     "end_time": null,
     "exception": null,
     "start_time": null,
     "status": "pending"
    },
    "tags": []
   },
   "outputs": [],
   "source": [
    "Line_ABC_Fault = df_class[df_class['Fault_Type'] == 'Line A Line B Line C' ]\n",
    "Line_ABC_Fault.head().style.set_properties(**{'background-color': 'blue',\n",
    "                           'color': 'white',\n",
    "                           'border-color': 'darkblack'})"
   ]
  },
  {
   "cell_type": "code",
   "execution_count": null,
   "id": "2c8dbda3",
   "metadata": {
    "execution": {
     "iopub.execute_input": "2025-06-01T14:42:41.675421Z",
     "iopub.status.busy": "2025-06-01T14:42:41.675043Z",
     "iopub.status.idle": "2025-06-01T14:42:42.002828Z",
     "shell.execute_reply": "2025-06-01T14:42:42.001851Z",
     "shell.execute_reply.started": "2025-06-01T14:42:41.675393Z"
    },
    "papermill": {
     "duration": null,
     "end_time": null,
     "exception": null,
     "start_time": null,
     "status": "pending"
    },
    "tags": []
   },
   "outputs": [],
   "source": [
    "ax = plt.figure(figsize = (18,3))\n",
    "ax = plt.plot(Line_ABC_Fault[\"Ia\"],'r')\n",
    "ax = plt.plot(Line_ABC_Fault[\"Ib\"],'b')\n",
    "ax = plt.plot(Line_ABC_Fault[\"Ic\"],'g');"
   ]
  },
  {
   "cell_type": "code",
   "execution_count": null,
   "id": "b3212bba",
   "metadata": {
    "execution": {
     "iopub.execute_input": "2025-06-01T14:42:46.485736Z",
     "iopub.status.busy": "2025-06-01T14:42:46.485244Z",
     "iopub.status.idle": "2025-06-01T14:42:46.797123Z",
     "shell.execute_reply": "2025-06-01T14:42:46.795809Z",
     "shell.execute_reply.started": "2025-06-01T14:42:46.485631Z"
    },
    "papermill": {
     "duration": null,
     "end_time": null,
     "exception": null,
     "start_time": null,
     "status": "pending"
    },
    "tags": []
   },
   "outputs": [],
   "source": [
    "ax = plt.figure(figsize = (18,3))\n",
    "ax = plt.plot(Line_ABC_Fault[\"Va\"],'r')\n",
    "ax = plt.plot(Line_ABC_Fault[\"Vb\"],'b')\n",
    "ax = plt.plot(Line_ABC_Fault[\"Vc\"],'g');"
   ]
  },
  {
   "cell_type": "markdown",
   "id": "8455db08",
   "metadata": {
    "papermill": {
     "duration": null,
     "end_time": null,
     "exception": null,
     "start_time": null,
     "status": "pending"
    },
    "tags": []
   },
   "source": [
    "<span style=\"background-color:red;\n",
    "             color:white;\n",
    "             font-size:25px;\n",
    "             text-align:center;\n",
    "             border-radius:50px 80px;\n",
    "             font-weight:bold;\n",
    "             border:2px solid red;\n",
    "             padding:0px 20px;\">6. Faulty System with Line A - Line B - Line C - Ground\n",
    "</span>"
   ]
  },
  {
   "cell_type": "code",
   "execution_count": null,
   "id": "7ad85ea7",
   "metadata": {
    "execution": {
     "iopub.execute_input": "2025-06-01T14:42:50.693320Z",
     "iopub.status.busy": "2025-06-01T14:42:50.692951Z",
     "iopub.status.idle": "2025-06-01T14:42:50.708244Z",
     "shell.execute_reply": "2025-06-01T14:42:50.707264Z",
     "shell.execute_reply.started": "2025-06-01T14:42:50.693293Z"
    },
    "papermill": {
     "duration": null,
     "end_time": null,
     "exception": null,
     "start_time": null,
     "status": "pending"
    },
    "tags": []
   },
   "outputs": [],
   "source": [
    "Line_ABCG_Fault = df_class[df_class['Fault_Type'] == 'Line A Line B Line C to Ground Fault' ]\n",
    "Line_ABCG_Fault.head().style.set_properties(**{'background-color': 'blue',\n",
    "                           'color': 'white',\n",
    "                           'border-color': 'darkblack'})"
   ]
  },
  {
   "cell_type": "code",
   "execution_count": null,
   "id": "d947e0a9",
   "metadata": {
    "execution": {
     "iopub.execute_input": "2025-06-01T14:42:54.225852Z",
     "iopub.status.busy": "2025-06-01T14:42:54.225414Z",
     "iopub.status.idle": "2025-06-01T14:42:54.561350Z",
     "shell.execute_reply": "2025-06-01T14:42:54.560501Z",
     "shell.execute_reply.started": "2025-06-01T14:42:54.225827Z"
    },
    "papermill": {
     "duration": null,
     "end_time": null,
     "exception": null,
     "start_time": null,
     "status": "pending"
    },
    "tags": []
   },
   "outputs": [],
   "source": [
    "ax = plt.figure(figsize = (18,3))\n",
    "ax = plt.plot(Line_ABCG_Fault[\"Ia\"],'r')\n",
    "ax = plt.plot(Line_ABCG_Fault[\"Ib\"],'b')\n",
    "ax = plt.plot(Line_ABCG_Fault[\"Ic\"],'g');"
   ]
  },
  {
   "cell_type": "code",
   "execution_count": null,
   "id": "168f9c84",
   "metadata": {
    "execution": {
     "iopub.execute_input": "2025-06-01T14:42:58.353281Z",
     "iopub.status.busy": "2025-06-01T14:42:58.352963Z",
     "iopub.status.idle": "2025-06-01T14:42:58.697683Z",
     "shell.execute_reply": "2025-06-01T14:42:58.696434Z",
     "shell.execute_reply.started": "2025-06-01T14:42:58.353256Z"
    },
    "papermill": {
     "duration": null,
     "end_time": null,
     "exception": null,
     "start_time": null,
     "status": "pending"
    },
    "scrolled": true,
    "tags": []
   },
   "outputs": [],
   "source": [
    "ax = plt.figure(figsize = (18,3))\n",
    "ax = plt.plot(Line_ABCG_Fault[\"Va\"],'r')\n",
    "ax = plt.plot(Line_ABCG_Fault[\"Vb\"],'b')\n",
    "ax = plt.plot(Line_ABCG_Fault[\"Vc\"],'g');"
   ]
  },
  {
   "cell_type": "code",
   "execution_count": null,
   "id": "d22aa113",
   "metadata": {
    "execution": {
     "iopub.execute_input": "2025-06-01T14:43:02.716143Z",
     "iopub.status.busy": "2025-06-01T14:43:02.715866Z",
     "iopub.status.idle": "2025-06-01T14:43:03.956653Z",
     "shell.execute_reply": "2025-06-01T14:43:03.955615Z",
     "shell.execute_reply.started": "2025-06-01T14:43:02.716123Z"
    },
    "papermill": {
     "duration": null,
     "end_time": null,
     "exception": null,
     "start_time": null,
     "status": "pending"
    },
    "tags": []
   },
   "outputs": [],
   "source": [
    "plt.figure(figsize= (15,10))\n",
    "#plt.suptitle(\"Distributions of Different Features\", fontsize = 20)\n",
    "#Histograms\n",
    "plt.subplot(3,3,1)\n",
    "sns.distplot(Line_ABCG_Fault['Va'], rug = True, kde = False)\n",
    "plt.xlabel('Voltage in Per Unit(pu)', fontsize = 12)\n",
    "plt.title('Distribution of Voltage',fontsize = 15)\n",
    "\n",
    "plt.subplot(3,3,2)\n",
    "sns.distplot(Line_ABCG_Fault['Ia'], color= 'green',rug = True, kde = False)\n",
    "plt.title('Distribution of Load of Line',fontsize = 15)\n",
    "plt.xlabel('Load on line in Amperes', fontsize = 12)\n",
    "\n",
    "\n",
    "#Kde Plots\n",
    "plt.subplot(3,3,4)\n",
    "sns.kdeplot(Line_ABCG_Fault['Va'], shade = True)\n",
    "plt.xlabel('Voltage in Per Unit(pu)', fontsize = 12)\n",
    "plt.title('Distribution of Voltage',fontsize = 15)\n",
    "\n",
    "plt.subplot(3,3,5)\n",
    "sns.kdeplot(Line_ABCG_Fault['Ia'], shade = True, color = 'g')\n",
    "plt.title('Distribution of Load of Line',fontsize = 15)\n",
    "plt.xlabel('Load on line in Amperes', fontsize = 12)\n",
    "\n",
    "\n",
    "#Box Plots\n",
    "plt.subplot(3,3,7)\n",
    "sns.boxplot(x = Line_ABCG_Fault['Va'], orient = 'v',color= 'b', boxprops=dict(alpha=.5))\n",
    "plt.subplot(3,3,8)\n",
    "sns.boxplot(x = Line_ABCG_Fault['Ia'], orient = 'v', color= 'g', boxprops=dict(alpha=.5))\n",
    "\n",
    "\n",
    "plt.tight_layout()\n",
    "plt.show()"
   ]
  },
  {
   "cell_type": "markdown",
   "id": "e9a271c0",
   "metadata": {
    "papermill": {
     "duration": null,
     "end_time": null,
     "exception": null,
     "start_time": null,
     "status": "pending"
    },
    "tags": []
   },
   "source": [
    "\n",
    "<h1 style=\"background-color:black\n",
    ";font-family:newtimeroman;font-size:350%;text-align:center;border-radius: 150px 150px; color:#40E0D0\">Feature and Label seperation </h1><a id=0></a>"
   ]
  },
  {
   "cell_type": "markdown",
   "id": "abde923e",
   "metadata": {
    "papermill": {
     "duration": null,
     "end_time": null,
     "exception": null,
     "start_time": null,
     "status": "pending"
    },
    "tags": []
   },
   "source": [
    "<span style=\"background-color:pink;\n",
    "             color:Blue;\n",
    "             font-size:25px;\n",
    "             text-align:center;\n",
    "             border-radius:50px 80px;\n",
    "             font-weight:bold;\n",
    "             border:2px solid red;\n",
    "             padding:0px 20px;\"> Categorical to Numerical conversion\n",
    "</span>"
   ]
  },
  {
   "cell_type": "code",
   "execution_count": null,
   "id": "219f674e",
   "metadata": {
    "execution": {
     "iopub.execute_input": "2025-06-01T14:43:10.125017Z",
     "iopub.status.busy": "2025-06-01T14:43:10.124728Z",
     "iopub.status.idle": "2025-06-01T14:43:10.154086Z",
     "shell.execute_reply": "2025-06-01T14:43:10.153209Z",
     "shell.execute_reply.started": "2025-06-01T14:43:10.124998Z"
    },
    "papermill": {
     "duration": null,
     "end_time": null,
     "exception": null,
     "start_time": null,
     "status": "pending"
    },
    "tags": []
   },
   "outputs": [],
   "source": [
    "from sklearn.preprocessing import LabelEncoder\n",
    "encoder = LabelEncoder()\n",
    "df_class['Fault_Type'] = encoder.fit_transform(df_class['Fault_Type'])\n",
    "df_class.head()"
   ]
  },
  {
   "cell_type": "markdown",
   "id": "db15d505",
   "metadata": {
    "papermill": {
     "duration": null,
     "end_time": null,
     "exception": null,
     "start_time": null,
     "status": "pending"
    },
    "tags": []
   },
   "source": [
    "<span style=\"background-color:pink;\n",
    "             color:Blue;\n",
    "             font-size:25px;\n",
    "             text-align:center;\n",
    "             border-radius:50px 80px;\n",
    "             font-weight:bold;\n",
    "             border:2px solid red;\n",
    "             padding:0px 20px;\"> Dependent and Independent Variable Sepration\n",
    "</span>"
   ]
  },
  {
   "cell_type": "code",
   "execution_count": null,
   "id": "c90253ef",
   "metadata": {
    "execution": {
     "iopub.execute_input": "2025-06-01T14:43:19.705191Z",
     "iopub.status.busy": "2025-06-01T14:43:19.704875Z",
     "iopub.status.idle": "2025-06-01T14:43:19.711298Z",
     "shell.execute_reply": "2025-06-01T14:43:19.710253Z",
     "shell.execute_reply.started": "2025-06-01T14:43:19.705166Z"
    },
    "papermill": {
     "duration": null,
     "end_time": null,
     "exception": null,
     "start_time": null,
     "status": "pending"
    },
    "tags": []
   },
   "outputs": [],
   "source": [
    "X = df_class.drop(['Fault_Type'],axis=1)\n",
    "y = df_class['Fault_Type']"
   ]
  },
  {
   "cell_type": "markdown",
   "id": "3e9baa74",
   "metadata": {
    "papermill": {
     "duration": null,
     "end_time": null,
     "exception": null,
     "start_time": null,
     "status": "pending"
    },
    "tags": []
   },
   "source": [
    "<span style=\"background-color:pink;\n",
    "             color:Blue;\n",
    "             font-size:25px;\n",
    "             text-align:center;\n",
    "             border-radius:50px 80px;\n",
    "             font-weight:bold;\n",
    "             border:2px solid red;\n",
    "             padding:0px 20px;\"> Train Test Split\n",
    "</span>"
   ]
  },
  {
   "cell_type": "code",
   "execution_count": null,
   "id": "77968705",
   "metadata": {
    "execution": {
     "iopub.execute_input": "2025-06-01T14:43:23.486216Z",
     "iopub.status.busy": "2025-06-01T14:43:23.485926Z",
     "iopub.status.idle": "2025-06-01T14:43:23.495025Z",
     "shell.execute_reply": "2025-06-01T14:43:23.493944Z",
     "shell.execute_reply.started": "2025-06-01T14:43:23.486195Z"
    },
    "papermill": {
     "duration": null,
     "end_time": null,
     "exception": null,
     "start_time": null,
     "status": "pending"
    },
    "tags": []
   },
   "outputs": [],
   "source": [
    "from sklearn.model_selection import train_test_split\n",
    "X_train,X_test,y_train,y_test = train_test_split(X,y,test_size=.20,random_state=21)"
   ]
  },
  {
   "cell_type": "markdown",
   "id": "10f2aca8",
   "metadata": {
    "papermill": {
     "duration": null,
     "end_time": null,
     "exception": null,
     "start_time": null,
     "status": "pending"
    },
    "tags": []
   },
   "source": [
    "<h1 style=\"background-color:black\n",
    ";font-family:newtimeroman;font-size:350%;text-align:center;border-radius: 150px 150px; color:#40E0D0\"> Model Selection </h1><a id=0></a>"
   ]
  },
  {
   "cell_type": "markdown",
   "id": "8b09224d",
   "metadata": {
    "papermill": {
     "duration": null,
     "end_time": null,
     "exception": null,
     "start_time": null,
     "status": "pending"
    },
    "tags": []
   },
   "source": [
    "<div style=\"display:fill;\n",
    "            border-radius:15px;\n",
    "            background-color:cyan;\n",
    "            font-size:210%;\n",
    "            font-family:Vardana;\n",
    "            letter-spacing:0.5px;\n",
    "            padding:10px;\n",
    "            color:Brown;\n",
    "            border-style: solid;\n",
    "            border-color: red;\n",
    "            text-align:Left;\">\n",
    "<b>Logistic Regression</b>\n",
    "</div>"
   ]
  },
  {
   "cell_type": "code",
   "execution_count": null,
   "id": "8494b1a6",
   "metadata": {
    "execution": {
     "iopub.execute_input": "2025-06-01T14:43:28.296874Z",
     "iopub.status.busy": "2025-06-01T14:43:28.296202Z",
     "iopub.status.idle": "2025-06-01T14:43:28.312292Z",
     "shell.execute_reply": "2025-06-01T14:43:28.311080Z",
     "shell.execute_reply.started": "2025-06-01T14:43:28.296844Z"
    },
    "papermill": {
     "duration": null,
     "end_time": null,
     "exception": null,
     "start_time": null,
     "status": "pending"
    },
    "tags": []
   },
   "outputs": [],
   "source": [
    "from sklearn.metrics import accuracy_score,classification_report,confusion_matrix,plot_confusion_matrix\n",
    "\n",
    "# Logistic Regression\n",
    "from sklearn.linear_model import LogisticRegression\n",
    "logreg = LogisticRegression()\n",
    "logreg.fit(X_train, y_train)\n",
    "y_pred_lr = logreg.predict(X_test)\n",
    "\n",
    "log_train = round(logreg.score(X_train, y_train) * 100, 2)\n",
    "log_accuracy = round(accuracy_score(y_pred_lr, y_test) * 100, 2)\n",
    "\n",
    "\n",
    "print(\"Training Accuracy    :\",log_train ,\"%\")\n",
    "print(\"Model Accuracy Score :\",log_accuracy ,\"%\")\n",
    "print(\"\\033[1m--------------------------------------------------------\\033[0m\")\n",
    "print(\"Classification_Report: \\n\",classification_report(y_test,y_pred_lr))\n",
    "print(\"\\033[1m--------------------------------------------------------\\033[0m\")\n",
    "plot_confusion_matrix(logreg, X_test, y_test);\n",
    "plt.title('Confusion Matrix');"
   ]
  },
  {
   "cell_type": "markdown",
   "id": "a41ecf6e",
   "metadata": {
    "papermill": {
     "duration": null,
     "end_time": null,
     "exception": null,
     "start_time": null,
     "status": "pending"
    },
    "tags": []
   },
   "source": [
    "<div style=\"display:fill;\n",
    "            border-radius:15px;\n",
    "            background-color:cyan;\n",
    "            font-size:210%;\n",
    "            font-family:Vardana;\n",
    "            letter-spacing:0.5px;\n",
    "            padding:10px;\n",
    "            color:Brown;\n",
    "            border-style: solid;\n",
    "            border-color: red;\n",
    "            text-align:Left;\">\n",
    "<b>Decision Tree Classifier</b>\n",
    "</div>"
   ]
  },
  {
   "cell_type": "code",
   "execution_count": null,
   "id": "5509d707",
   "metadata": {
    "execution": {
     "iopub.execute_input": "2025-06-01T14:43:35.087029Z",
     "iopub.status.busy": "2025-06-01T14:43:35.086737Z",
     "iopub.status.idle": "2025-06-01T14:43:35.141935Z",
     "shell.execute_reply": "2025-06-01T14:43:35.140758Z",
     "shell.execute_reply.started": "2025-06-01T14:43:35.087006Z"
    },
    "papermill": {
     "duration": null,
     "end_time": null,
     "exception": null,
     "start_time": null,
     "status": "pending"
    },
    "tags": []
   },
   "outputs": [],
   "source": [
    "# Decision Tree\n",
    "from sklearn.tree import DecisionTreeClassifier\n",
    "decision = DecisionTreeClassifier()\n",
    "decision.fit(X_train, y_train)\n",
    "y_pred_dec = decision.predict(X_test)\n",
    "\n",
    "decision_train = round(decision.score(X_train, y_train) * 100, 2)\n",
    "decision_accuracy = round(accuracy_score(y_pred_dec, y_test) * 100, 2)\n",
    "\n",
    "print(\"Training Accuracy    :\",decision_train ,\"%\")\n",
    "print(\"Model Accuracy Score :\",decision_accuracy ,\"%\")\n",
    "print(\"\\033[1m--------------------------------------------------------\\033[0m\")\n",
    "print(\"Classification_Report: \\n\",classification_report(y_test,y_pred_dec))\n",
    "print(\"\\033[1m--------------------------------------------------------\\033[0m\")\n",
    "plot_confusion_matrix(decision, X_test, y_test);\n",
    "plt.title('Confusion Matrix');"
   ]
  },
  {
   "cell_type": "code",
   "execution_count": null,
   "id": "cb82f321",
   "metadata": {
    "execution": {
     "iopub.execute_input": "2025-06-01T14:44:45.256531Z",
     "iopub.status.busy": "2025-06-01T14:44:45.256221Z",
     "iopub.status.idle": "2025-06-01T14:44:45.873350Z",
     "shell.execute_reply": "2025-06-01T14:44:45.872420Z",
     "shell.execute_reply.started": "2025-06-01T14:44:45.256480Z"
    },
    "papermill": {
     "duration": null,
     "end_time": null,
     "exception": null,
     "start_time": null,
     "status": "pending"
    },
    "tags": []
   },
   "outputs": [],
   "source": [
    "from sklearn.tree import plot_tree\n",
    "plt.figure(figsize=(15,7))\n",
    "plot_tree(decision,filled=True,feature_names=['Ia', 'Ib', 'Ic', 'Va', 'Vb', 'Vc'])\n",
    "plt.show()"
   ]
  },
  {
   "cell_type": "code",
   "execution_count": null,
   "id": "73face24",
   "metadata": {
    "execution": {
     "iopub.execute_input": "2025-06-01T14:44:57.957130Z",
     "iopub.status.busy": "2025-06-01T14:44:57.956780Z",
     "iopub.status.idle": "2025-06-01T14:44:57.962789Z",
     "shell.execute_reply": "2025-06-01T14:44:57.961901Z",
     "shell.execute_reply.started": "2025-06-01T14:44:57.957102Z"
    },
    "papermill": {
     "duration": null,
     "end_time": null,
     "exception": null,
     "start_time": null,
     "status": "pending"
    },
    "tags": []
   },
   "outputs": [],
   "source": [
    "from sklearn import tree\n",
    "def tree_plot(model_name):\n",
    "    plt.figure(figsize=(20,20))\n",
    "    features = df_class.columns\n",
    "    classes = ['NO Fault','Line A to Ground Fault','Line B to Line C Fault','Line A Line B to Ground Fault','Line A Line B Line C','Line A Line B Line C to Ground Fault']\n",
    "    tree.plot_tree(model_name,feature_names=features,class_names=classes,filled=True)\n",
    "    plt.show()"
   ]
  },
  {
   "cell_type": "code",
   "execution_count": null,
   "id": "4c0e6fe4",
   "metadata": {
    "execution": {
     "iopub.execute_input": "2025-06-01T14:45:01.144946Z",
     "iopub.status.busy": "2025-06-01T14:45:01.144389Z",
     "iopub.status.idle": "2025-06-01T14:45:02.318338Z",
     "shell.execute_reply": "2025-06-01T14:45:02.317058Z",
     "shell.execute_reply.started": "2025-06-01T14:45:01.144907Z"
    },
    "papermill": {
     "duration": null,
     "end_time": null,
     "exception": null,
     "start_time": null,
     "status": "pending"
    },
    "tags": []
   },
   "outputs": [],
   "source": [
    "tree_plot(decision)"
   ]
  },
  {
   "cell_type": "markdown",
   "id": "c0bd9bdf",
   "metadata": {
    "papermill": {
     "duration": null,
     "end_time": null,
     "exception": null,
     "start_time": null,
     "status": "pending"
    },
    "tags": []
   },
   "source": [
    "<div style=\"display:fill;\n",
    "            border-radius:15px;\n",
    "            background-color:cyan;\n",
    "            font-size:210%;\n",
    "            font-family:Vardana;\n",
    "            letter-spacing:0.5px;\n",
    "            padding:10px;\n",
    "            color:Brown;\n",
    "            border-style: solid;\n",
    "            border-color: red;\n",
    "            text-align:Left;\">\n",
    "<b>Random Forest Classifier</b>\n",
    "</div>"
   ]
  },
  {
   "cell_type": "code",
   "execution_count": null,
   "id": "427cdb47",
   "metadata": {
    "execution": {
     "iopub.status.busy": "2025-06-01T14:38:48.962022Z",
     "iopub.status.idle": "2025-06-01T14:38:48.962280Z",
     "shell.execute_reply": "2025-06-01T14:38:48.962173Z",
     "shell.execute_reply.started": "2025-06-01T14:38:48.962161Z"
    },
    "papermill": {
     "duration": null,
     "end_time": null,
     "exception": null,
     "start_time": null,
     "status": "pending"
    },
    "tags": []
   },
   "outputs": [],
   "source": [
    "# Random Forest\n",
    "from sklearn.ensemble import RandomForestClassifier\n",
    "random_forest = RandomForestClassifier(n_estimators=100)\n",
    "random_forest.fit(X_train, y_train)\n",
    "y_pred_rf = random_forest.predict(X_test)\n",
    "random_forest.score(X_train, y_train)\n",
    "\n",
    "random_forest_train = round(random_forest.score(X_train, y_train) * 100, 2)\n",
    "random_forest_accuracy = round(accuracy_score(y_pred_rf, y_test) * 100, 2)\n",
    "\n",
    "print(\"Training Accuracy    :\",random_forest_train ,\"%\")\n",
    "print(\"Model Accuracy Score :\",random_forest_accuracy ,\"%\")\n",
    "print(\"\\033[1m--------------------------------------------------------\\033[0m\")\n",
    "print(\"Classification_Report: \\n\",classification_report(y_test,y_pred_rf))\n",
    "print(\"\\033[1m--------------------------------------------------------\\033[0m\")\n",
    "plot_confusion_matrix(random_forest, X_test, y_test);\n",
    "plt.title('Confusion Matrix');"
   ]
  },
  {
   "cell_type": "markdown",
   "id": "f17dbbc0",
   "metadata": {
    "papermill": {
     "duration": null,
     "end_time": null,
     "exception": null,
     "start_time": null,
     "status": "pending"
    },
    "tags": []
   },
   "source": [
    "<div style=\"display:fill;\n",
    "            border-radius:15px;\n",
    "            background-color:cyan;\n",
    "            font-size:210%;\n",
    "            font-family:Vardana;\n",
    "            letter-spacing:0.5px;\n",
    "            padding:10px;\n",
    "            color:Brown;\n",
    "            border-style: solid;\n",
    "            border-color: red;\n",
    "            text-align:Left;\">\n",
    "<b>XGB Classifier</b>\n",
    "</div>"
   ]
  },
  {
   "cell_type": "code",
   "execution_count": null,
   "id": "52d56f1e",
   "metadata": {
    "execution": {
     "iopub.status.busy": "2025-06-01T14:38:48.963265Z",
     "iopub.status.idle": "2025-06-01T14:38:48.963498Z",
     "shell.execute_reply": "2025-06-01T14:38:48.963397Z",
     "shell.execute_reply.started": "2025-06-01T14:38:48.963387Z"
    },
    "papermill": {
     "duration": null,
     "end_time": null,
     "exception": null,
     "start_time": null,
     "status": "pending"
    },
    "tags": []
   },
   "outputs": [],
   "source": [
    "import xgboost as Xgb\n",
    "xgb = Xgb.XGBClassifier()\n",
    "xgb.fit(X_train,y_train)\n",
    "y_pred_xgb = xgb.predict(X_test)\n",
    "xgb.score(X_train, y_train)\n",
    "\n",
    "xgb_train = round(xgb.score(X_train, y_train) * 100, 2)\n",
    "xgb_accuracy = round(accuracy_score(y_pred_xgb, y_test) * 100, 2)\n",
    "\n",
    "print(\"Training Accuracy    :\",xgb_train ,\"%\")\n",
    "print(\"Model Accuracy Score :\",xgb_accuracy ,\"%\")\n",
    "print(\"\\033[1m--------------------------------------------------------\\033[0m\")\n",
    "print(\"Classification_Report: \\n\",classification_report(y_test,y_pred_xgb))\n",
    "print(\"\\033[1m--------------------------------------------------------\\033[0m\")\n",
    "plot_confusion_matrix(xgb, X_test, y_test);\n",
    "plt.title('Confusion Matrix');"
   ]
  },
  {
   "cell_type": "markdown",
   "id": "1f382be1",
   "metadata": {
    "papermill": {
     "duration": null,
     "end_time": null,
     "exception": null,
     "start_time": null,
     "status": "pending"
    },
    "tags": []
   },
   "source": [
    "<div style=\"display:fill;\n",
    "            border-radius:15px;\n",
    "            background-color:cyan;\n",
    "            font-size:210%;\n",
    "            font-family:Vardana;\n",
    "            letter-spacing:0.5px;\n",
    "            padding:10px;\n",
    "            color:Brown;\n",
    "            border-style: solid;\n",
    "            border-color: red;\n",
    "            text-align:Left;\">\n",
    "<b>Support Vector Machines</b>\n",
    "</div>"
   ]
  },
  {
   "cell_type": "code",
   "execution_count": null,
   "id": "eb4b4d4a",
   "metadata": {
    "execution": {
     "iopub.status.busy": "2025-06-01T14:38:48.964721Z",
     "iopub.status.idle": "2025-06-01T14:38:48.964998Z",
     "shell.execute_reply": "2025-06-01T14:38:48.964893Z",
     "shell.execute_reply.started": "2025-06-01T14:38:48.964881Z"
    },
    "papermill": {
     "duration": null,
     "end_time": null,
     "exception": null,
     "start_time": null,
     "status": "pending"
    },
    "tags": []
   },
   "outputs": [],
   "source": [
    "# Support Vector Machines\n",
    "from sklearn.svm import SVC\n",
    "svc = SVC()\n",
    "svc.fit(X_train, y_train)\n",
    "y_pred_svc = svc.predict(X_test)\n",
    "\n",
    "svc_train = round(svc.score(X_train, y_train) * 100, 2)\n",
    "svc_accuracy = round(accuracy_score(y_pred_svc, y_test) * 100, 2)\n",
    "\n",
    "print(\"Training Accuracy    :\",svc_train ,\"%\")\n",
    "print(\"Model Accuracy Score :\",svc_accuracy ,\"%\")\n",
    "print(\"\\033[1m--------------------------------------------------------\\033[0m\")\n",
    "print(\"Classification_Report: \\n\",classification_report(y_test,y_pred_svc))\n",
    "print(\"\\033[1m--------------------------------------------------------\\033[0m\")\n",
    "plot_confusion_matrix(svc, X_test, y_test);\n",
    "plt.title('Confusion Matrix');"
   ]
  },
  {
   "cell_type": "markdown",
   "id": "dd723639",
   "metadata": {
    "papermill": {
     "duration": null,
     "end_time": null,
     "exception": null,
     "start_time": null,
     "status": "pending"
    },
    "tags": []
   },
   "source": [
    "<h1 style=\"background-color:black\n",
    ";font-family:newtimeroman;font-size:350%;text-align:center;border-radius: 150px 150px; color:#40E0D0\"> Comparing Different Models </h1><a id=0></a>"
   ]
  },
  {
   "cell_type": "code",
   "execution_count": null,
   "id": "b22fae95",
   "metadata": {
    "execution": {
     "iopub.status.busy": "2025-06-01T14:38:48.966593Z",
     "iopub.status.idle": "2025-06-01T14:38:48.966852Z",
     "shell.execute_reply": "2025-06-01T14:38:48.966748Z",
     "shell.execute_reply.started": "2025-06-01T14:38:48.966737Z"
    },
    "papermill": {
     "duration": null,
     "end_time": null,
     "exception": null,
     "start_time": null,
     "status": "pending"
    },
    "tags": []
   },
   "outputs": [],
   "source": [
    "models = pd.DataFrame({\n",
    "    'Model': [\n",
    "        'Support Vector Machines', 'Logistic Regression', 'Random Forest',\n",
    "        'Decision Tree', 'XGBClassifier'\n",
    "    ],\n",
    "    \n",
    "    'Training Accuracy':\n",
    "    [log_train, svc_train, decision_train, random_forest_train, xgb_train],\n",
    "    \n",
    "    'Model Accuracy Score': [\n",
    "        log_accuracy, svc_accuracy, decision_accuracy, random_forest_accuracy,\n",
    "        xgb_accuracy\n",
    "    ]\n",
    "})"
   ]
  },
  {
   "cell_type": "code",
   "execution_count": null,
   "id": "280d434a",
   "metadata": {
    "execution": {
     "iopub.status.busy": "2025-06-01T14:38:48.968885Z",
     "iopub.status.idle": "2025-06-01T14:38:48.969128Z",
     "shell.execute_reply": "2025-06-01T14:38:48.969026Z",
     "shell.execute_reply.started": "2025-06-01T14:38:48.969015Z"
    },
    "papermill": {
     "duration": null,
     "end_time": null,
     "exception": null,
     "start_time": null,
     "status": "pending"
    },
    "tags": []
   },
   "outputs": [],
   "source": [
    "pd.set_option('precision',2)\n",
    "models.sort_values(by='Model Accuracy Score', ascending=False).style.background_gradient(\n",
    "        cmap='coolwarm').hide_index().set_properties(**{\n",
    "            'font-family': 'Lucida Calligraphy',\n",
    "            'color': 'LigntGreen',\n",
    "            'font-size': '15px'\n",
    "        })"
   ]
  },
  {
   "cell_type": "markdown",
   "id": "686b1264",
   "metadata": {
    "papermill": {
     "duration": null,
     "end_time": null,
     "exception": null,
     "start_time": null,
     "status": "pending"
    },
    "tags": []
   },
   "source": [
    "<h1 style=\"background-color:black\n",
    ";font-family:newtimeroman;font-size:350%;text-align:center;border-radius: 150px 150px; color:#40E0D0\"> Result Prediction</h1><a id=0></a>"
   ]
  },
  {
   "cell_type": "markdown",
   "id": "950896f4",
   "metadata": {
    "papermill": {
     "duration": null,
     "end_time": null,
     "exception": null,
     "start_time": null,
     "status": "pending"
    },
    "tags": []
   },
   "source": [
    "<span style=\"background-color:yellow;\n",
    "             color:Black;\n",
    "             font-size:25px;\n",
    "             text-align:center;\n",
    "             border-radius:30px 80px;\n",
    "             font-weight:bold;\n",
    "             border:2px solid red;\n",
    "             padding:0px 20px;\">1. Random Forest Classifier\n",
    "</span>"
   ]
  },
  {
   "cell_type": "code",
   "execution_count": null,
   "id": "83ae5050",
   "metadata": {
    "execution": {
     "iopub.status.busy": "2025-06-01T14:38:48.969842Z",
     "iopub.status.idle": "2025-06-01T14:38:48.970102Z",
     "shell.execute_reply": "2025-06-01T14:38:48.969991Z",
     "shell.execute_reply.started": "2025-06-01T14:38:48.969979Z"
    },
    "papermill": {
     "duration": null,
     "end_time": null,
     "exception": null,
     "start_time": null,
     "status": "pending"
    },
    "tags": []
   },
   "outputs": [],
   "source": [
    "prediction1 = random_forest.predict(X_test)\n",
    "print(prediction1)"
   ]
  },
  {
   "cell_type": "code",
   "execution_count": null,
   "id": "c5062012",
   "metadata": {
    "execution": {
     "iopub.status.busy": "2025-06-01T14:38:48.971601Z",
     "iopub.status.idle": "2025-06-01T14:38:48.971846Z",
     "shell.execute_reply": "2025-06-01T14:38:48.971744Z",
     "shell.execute_reply.started": "2025-06-01T14:38:48.971733Z"
    },
    "papermill": {
     "duration": null,
     "end_time": null,
     "exception": null,
     "start_time": null,
     "status": "pending"
    },
    "tags": []
   },
   "outputs": [],
   "source": [
    "cross_checking = pd.DataFrame({'Actual' : y_test , 'Predicted' : prediction1})\n",
    "cross_checking.sample(5).style.background_gradient(\n",
    "        cmap='coolwarm').set_properties(**{\n",
    "            'font-family': 'Lucida Calligraphy',\n",
    "            'color': 'LigntGreen',\n",
    "            'font-size': '15px'\n",
    "        })"
   ]
  },
  {
   "cell_type": "markdown",
   "id": "2c869957",
   "metadata": {
    "papermill": {
     "duration": null,
     "end_time": null,
     "exception": null,
     "start_time": null,
     "status": "pending"
    },
    "tags": []
   },
   "source": [
    "<span style=\"background-color:yellow;\n",
    "             color:Black;\n",
    "             font-size:25px;\n",
    "             text-align:center;\n",
    "             border-radius:30px 80px;\n",
    "             font-weight:bold;\n",
    "             border:2px solid red;\n",
    "             padding:0px 20px;\">2. Decision Tree Classifier\n",
    "</span>"
   ]
  },
  {
   "cell_type": "code",
   "execution_count": null,
   "id": "7c2ddcf0",
   "metadata": {
    "execution": {
     "iopub.execute_input": "2025-06-01T14:47:21.713702Z",
     "iopub.status.busy": "2025-06-01T14:47:21.713343Z",
     "iopub.status.idle": "2025-06-01T14:47:21.721578Z",
     "shell.execute_reply": "2025-06-01T14:47:21.720760Z",
     "shell.execute_reply.started": "2025-06-01T14:47:21.713675Z"
    },
    "papermill": {
     "duration": null,
     "end_time": null,
     "exception": null,
     "start_time": null,
     "status": "pending"
    },
    "tags": []
   },
   "outputs": [],
   "source": [
    "prediction2 = decision.predict(X_test)\n",
    "print(prediction2)"
   ]
  },
  {
   "cell_type": "code",
   "execution_count": null,
   "id": "c2c57401",
   "metadata": {
    "execution": {
     "iopub.execute_input": "2025-06-01T14:47:24.526010Z",
     "iopub.status.busy": "2025-06-01T14:47:24.525690Z",
     "iopub.status.idle": "2025-06-01T14:47:24.542836Z",
     "shell.execute_reply": "2025-06-01T14:47:24.541465Z",
     "shell.execute_reply.started": "2025-06-01T14:47:24.525984Z"
    },
    "papermill": {
     "duration": null,
     "end_time": null,
     "exception": null,
     "start_time": null,
     "status": "pending"
    },
    "tags": []
   },
   "outputs": [],
   "source": [
    "cross_checking = pd.DataFrame({'Actual' : y_test , 'Predicted' : prediction2})\n",
    "cross_checking.sample(5).style.background_gradient(\n",
    "        cmap='coolwarm').set_properties(**{\n",
    "            'font-family': 'Lucida Calligraphy',\n",
    "            'color': 'LigntGreen',\n",
    "            'font-size': '15px'\n",
    "        })"
   ]
  },
  {
   "cell_type": "markdown",
   "id": "1e7d9e1d",
   "metadata": {
    "papermill": {
     "duration": null,
     "end_time": null,
     "exception": null,
     "start_time": null,
     "status": "pending"
    },
    "tags": []
   },
   "source": [
    "<span style=\"background-color:yellow;\n",
    "             color:Black;\n",
    "             font-size:25px;\n",
    "             text-align:center;\n",
    "             border-radius:30px 80px;\n",
    "             font-weight:bold;\n",
    "             border:2px solid red;\n",
    "             padding:0px 20px;\">3. XGB Classifier\n",
    "</span>"
   ]
  },
  {
   "cell_type": "code",
   "execution_count": null,
   "id": "61667161",
   "metadata": {
    "execution": {
     "iopub.status.busy": "2025-06-01T14:38:48.976387Z",
     "iopub.status.idle": "2025-06-01T14:38:48.976743Z",
     "shell.execute_reply": "2025-06-01T14:38:48.976566Z",
     "shell.execute_reply.started": "2025-06-01T14:38:48.976548Z"
    },
    "papermill": {
     "duration": null,
     "end_time": null,
     "exception": null,
     "start_time": null,
     "status": "pending"
    },
    "tags": []
   },
   "outputs": [],
   "source": [
    "prediction3 = xgb.predict(X_test)\n",
    "print(prediction3)"
   ]
  },
  {
   "cell_type": "code",
   "execution_count": null,
   "id": "137aa818",
   "metadata": {
    "execution": {
     "iopub.status.busy": "2025-06-01T14:38:48.977861Z",
     "iopub.status.idle": "2025-06-01T14:38:48.978219Z",
     "shell.execute_reply": "2025-06-01T14:38:48.978051Z",
     "shell.execute_reply.started": "2025-06-01T14:38:48.978034Z"
    },
    "papermill": {
     "duration": null,
     "end_time": null,
     "exception": null,
     "start_time": null,
     "status": "pending"
    },
    "tags": []
   },
   "outputs": [],
   "source": [
    "cross_checking = pd.DataFrame({'Actual' : y_test , 'Predicted' : prediction3})\n",
    "cross_checking.sample(5).style.background_gradient(\n",
    "        cmap='coolwarm').set_properties(**{\n",
    "            'font-family': 'Lucida Calligraphy',\n",
    "            'color': 'LigntGreen',\n",
    "            'font-size': '15px'\n",
    "        })"
   ]
  },
  {
   "cell_type": "markdown",
   "id": "8531696f",
   "metadata": {
    "papermill": {
     "duration": null,
     "end_time": null,
     "exception": null,
     "start_time": null,
     "status": "pending"
    },
    "tags": []
   },
   "source": [
    "<span style=\"background-color:yellow;\n",
    "             color:Black;\n",
    "             font-size:25px;\n",
    "             text-align:center;\n",
    "             border-radius:30px 80px;\n",
    "             font-weight:bold;\n",
    "             border:2px solid red;\n",
    "             padding:0px 20px;\">4. Support Vector Machines\n",
    "</span>"
   ]
  },
  {
   "cell_type": "code",
   "execution_count": null,
   "id": "0c6ee324",
   "metadata": {
    "execution": {
     "iopub.status.busy": "2025-06-01T14:38:48.979421Z",
     "iopub.status.idle": "2025-06-01T14:38:48.979836Z",
     "shell.execute_reply": "2025-06-01T14:38:48.979659Z",
     "shell.execute_reply.started": "2025-06-01T14:38:48.979642Z"
    },
    "papermill": {
     "duration": null,
     "end_time": null,
     "exception": null,
     "start_time": null,
     "status": "pending"
    },
    "tags": []
   },
   "outputs": [],
   "source": [
    "prediction4 = svc.predict(X_test)\n",
    "print(prediction4)"
   ]
  },
  {
   "cell_type": "code",
   "execution_count": null,
   "id": "1923130f",
   "metadata": {
    "execution": {
     "iopub.status.busy": "2025-06-01T14:38:48.981118Z",
     "iopub.status.idle": "2025-06-01T14:38:48.981482Z",
     "shell.execute_reply": "2025-06-01T14:38:48.981310Z",
     "shell.execute_reply.started": "2025-06-01T14:38:48.981294Z"
    },
    "papermill": {
     "duration": null,
     "end_time": null,
     "exception": null,
     "start_time": null,
     "status": "pending"
    },
    "tags": []
   },
   "outputs": [],
   "source": [
    "cross_checking = pd.DataFrame({'Actual' : y_test , 'Predicted' : prediction4})\n",
    "cross_checking.sample(5).style.background_gradient(\n",
    "        cmap='coolwarm').set_properties(**{\n",
    "            'font-family': 'Lucida Calligraphy',\n",
    "            'color': 'LigntGreen',\n",
    "            'font-size': '15px'\n",
    "        })"
   ]
  },
  {
   "cell_type": "markdown",
   "id": "748a9795",
   "metadata": {
    "papermill": {
     "duration": null,
     "end_time": null,
     "exception": null,
     "start_time": null,
     "status": "pending"
    },
    "tags": []
   },
   "source": [
    "<span style=\"background-color:yellow;\n",
    "             color:Black;\n",
    "             font-size:25px;\n",
    "             text-align:center;\n",
    "             border-radius:30px 80px;\n",
    "             font-weight:bold;\n",
    "             border:2px solid red;\n",
    "             padding:0px 20px;\">5. Logistic Regression\n",
    "</span>"
   ]
  },
  {
   "cell_type": "code",
   "execution_count": null,
   "id": "72eeaed3",
   "metadata": {
    "execution": {
     "iopub.status.busy": "2025-06-01T14:38:48.983308Z",
     "iopub.status.idle": "2025-06-01T14:38:48.983706Z",
     "shell.execute_reply": "2025-06-01T14:38:48.983533Z",
     "shell.execute_reply.started": "2025-06-01T14:38:48.983490Z"
    },
    "papermill": {
     "duration": null,
     "end_time": null,
     "exception": null,
     "start_time": null,
     "status": "pending"
    },
    "tags": []
   },
   "outputs": [],
   "source": [
    "prediction5 = logreg.predict(X_test)\n",
    "print(prediction5)"
   ]
  },
  {
   "cell_type": "code",
   "execution_count": null,
   "id": "d254b146",
   "metadata": {
    "_kg_hide-input": true,
    "execution": {
     "iopub.status.busy": "2025-06-01T14:38:48.992312Z",
     "iopub.status.idle": "2025-06-01T14:38:48.992806Z",
     "shell.execute_reply": "2025-06-01T14:38:48.992654Z",
     "shell.execute_reply.started": "2025-06-01T14:38:48.992633Z"
    },
    "papermill": {
     "duration": null,
     "end_time": null,
     "exception": null,
     "start_time": null,
     "status": "pending"
    },
    "tags": []
   },
   "outputs": [],
   "source": [
    "cross_checking = pd.DataFrame({'Actual' : y_test , 'Predicted' : prediction5})\n",
    "cross_checking.sample(5).style.background_gradient(\n",
    "        cmap='coolwarm').set_properties(**{\n",
    "            'font-family': 'Lucida Calligraphy',\n",
    "            'color': 'LigntGreen',\n",
    "            'font-size': '15px'\n",
    "        })"
   ]
  },
  {
   "cell_type": "markdown",
   "id": "58f95b0d",
   "metadata": {
    "_kg_hide-input": true,
    "papermill": {
     "duration": null,
     "end_time": null,
     "exception": null,
     "start_time": null,
     "status": "pending"
    },
    "tags": []
   },
   "source": [
    "<div style=\"color:white;\n",
    "       display:fill;\n",
    "       border-radius:5px;\n",
    "       background-color:yellow;\n",
    "       font-size:120%;\n",
    "       font-family:Nexa;\n",
    "       style:justify;\n",
    "       font-family:'Times New Roman';\n",
    "       letter-spacing:0.5px\">\n",
    "    <p style=\"padding: 10px;\n",
    "          color:Black;\">\n",
    "         Random Forest,Decision Tree Classifier,XGB Classifier,\tare giving the best Result with 100 percent accuracy and  is doing  a great job till now in Fault Detection, than the rest of the models because it's able to predict all the signals in most efficient manner while in other models there are cases where there is actually fault but the model is not able to identify it.Logistic Regression is giving the worst accuracy\n",
    "    </p>\n",
    "</div>"
   ]
  }
 ],
 "metadata": {
  "kaggle": {
   "accelerator": "none",
   "dataSources": [
    {
     "datasetId": 1358964,
     "sourceId": 2258354,
     "sourceType": "datasetVersion"
    }
   ],
   "dockerImageVersionId": 31040,
   "isGpuEnabled": false,
   "isInternetEnabled": true,
   "language": "python",
   "sourceType": "notebook"
  },
  "kernelspec": {
   "display_name": "Python 3",
   "language": "python",
   "name": "python3"
  },
  "language_info": {
   "codemirror_mode": {
    "name": "ipython",
    "version": 3
   },
   "file_extension": ".py",
   "mimetype": "text/x-python",
   "name": "python",
   "nbconvert_exporter": "python",
   "pygments_lexer": "ipython3",
   "version": "3.11.11"
  },
  "papermill": {
   "default_parameters": {},
   "duration": 14.324779,
   "end_time": "2025-06-01T14:50:38.878312",
   "environment_variables": {},
   "exception": true,
   "input_path": "__notebook__.ipynb",
   "output_path": "__notebook__.ipynb",
   "parameters": {},
   "start_time": "2025-06-01T14:50:24.553533",
   "version": "2.6.0"
  }
 },
 "nbformat": 4,
 "nbformat_minor": 5
}
